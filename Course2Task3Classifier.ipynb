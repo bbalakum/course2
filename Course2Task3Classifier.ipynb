{
 "cells": [
  {
   "cell_type": "code",
   "execution_count": 1,
   "metadata": {},
   "outputs": [],
   "source": [
    "import pandas as pd\n",
    "pd.set_option('display.max_columns', None)  \n",
    "pd.set_option('display.expand_frame_repr', False)\n",
    "pd.set_option('max_colwidth', None)\n",
    "#\n",
    "from sklearn.preprocessing import OneHotEncoder, LabelEncoder, MinMaxScaler\n",
    "from sklearn.impute import SimpleImputer\n",
    "import matplotlib.pyplot as plt\n",
    "import seaborn as sn"
   ]
  },
  {
   "cell_type": "code",
   "execution_count": 2,
   "metadata": {},
   "outputs": [],
   "source": [
    "credit = pd.read_csv(\"C:\\\\bbk\\predictiveanalytics\\course2\\DefaultedCreditCardClients.csv\")"
   ]
  },
  {
   "cell_type": "code",
   "execution_count": 3,
   "metadata": {},
   "outputs": [
    {
     "data": {
      "text/html": [
       "<div>\n",
       "<style scoped>\n",
       "    .dataframe tbody tr th:only-of-type {\n",
       "        vertical-align: middle;\n",
       "    }\n",
       "\n",
       "    .dataframe tbody tr th {\n",
       "        vertical-align: top;\n",
       "    }\n",
       "\n",
       "    .dataframe thead th {\n",
       "        text-align: right;\n",
       "    }\n",
       "</style>\n",
       "<table border=\"1\" class=\"dataframe\">\n",
       "  <thead>\n",
       "    <tr style=\"text-align: right;\">\n",
       "      <th></th>\n",
       "      <th>GRADUATE</th>\n",
       "      <th>BILL_AMT5</th>\n",
       "      <th>PAY_AMT1</th>\n",
       "      <th>PAY_AMT2</th>\n",
       "      <th>PAY_AMT3</th>\n",
       "      <th>PAY_AMT4</th>\n",
       "      <th>PAY_AMT5</th>\n",
       "      <th>PAY_AMT6</th>\n",
       "      <th>AGE</th>\n",
       "      <th>AGE_GROUP</th>\n",
       "      <th>default</th>\n",
       "      <th>LIMIT_BAL_GROUP</th>\n",
       "      <th>LIMIT_BAL</th>\n",
       "    </tr>\n",
       "  </thead>\n",
       "  <tbody>\n",
       "    <tr>\n",
       "      <th>0</th>\n",
       "      <td>0</td>\n",
       "      <td>0</td>\n",
       "      <td>0</td>\n",
       "      <td>689</td>\n",
       "      <td>0</td>\n",
       "      <td>0</td>\n",
       "      <td>0</td>\n",
       "      <td>0</td>\n",
       "      <td>24</td>\n",
       "      <td>1</td>\n",
       "      <td>1</td>\n",
       "      <td>1</td>\n",
       "      <td>20000</td>\n",
       "    </tr>\n",
       "    <tr>\n",
       "      <th>1</th>\n",
       "      <td>0</td>\n",
       "      <td>3455</td>\n",
       "      <td>0</td>\n",
       "      <td>1000</td>\n",
       "      <td>1000</td>\n",
       "      <td>1000</td>\n",
       "      <td>0</td>\n",
       "      <td>2000</td>\n",
       "      <td>26</td>\n",
       "      <td>2</td>\n",
       "      <td>1</td>\n",
       "      <td>3</td>\n",
       "      <td>120000</td>\n",
       "    </tr>\n",
       "    <tr>\n",
       "      <th>2</th>\n",
       "      <td>0</td>\n",
       "      <td>14948</td>\n",
       "      <td>1518</td>\n",
       "      <td>1500</td>\n",
       "      <td>1000</td>\n",
       "      <td>1000</td>\n",
       "      <td>1000</td>\n",
       "      <td>5000</td>\n",
       "      <td>34</td>\n",
       "      <td>3</td>\n",
       "      <td>0</td>\n",
       "      <td>2</td>\n",
       "      <td>90000</td>\n",
       "    </tr>\n",
       "    <tr>\n",
       "      <th>3</th>\n",
       "      <td>0</td>\n",
       "      <td>28959</td>\n",
       "      <td>2000</td>\n",
       "      <td>2019</td>\n",
       "      <td>1200</td>\n",
       "      <td>1100</td>\n",
       "      <td>1069</td>\n",
       "      <td>1000</td>\n",
       "      <td>37</td>\n",
       "      <td>4</td>\n",
       "      <td>0</td>\n",
       "      <td>1</td>\n",
       "      <td>50000</td>\n",
       "    </tr>\n",
       "    <tr>\n",
       "      <th>4</th>\n",
       "      <td>0</td>\n",
       "      <td>19146</td>\n",
       "      <td>2000</td>\n",
       "      <td>36681</td>\n",
       "      <td>10000</td>\n",
       "      <td>9000</td>\n",
       "      <td>689</td>\n",
       "      <td>679</td>\n",
       "      <td>57</td>\n",
       "      <td>7</td>\n",
       "      <td>0</td>\n",
       "      <td>1</td>\n",
       "      <td>50000</td>\n",
       "    </tr>\n",
       "  </tbody>\n",
       "</table>\n",
       "</div>"
      ],
      "text/plain": [
       "   GRADUATE  BILL_AMT5  PAY_AMT1  PAY_AMT2  PAY_AMT3  PAY_AMT4  PAY_AMT5  PAY_AMT6  AGE  AGE_GROUP  default  LIMIT_BAL_GROUP  LIMIT_BAL\n",
       "0         0          0         0       689         0         0         0         0   24          1        1                1      20000\n",
       "1         0       3455         0      1000      1000      1000         0      2000   26          2        1                3     120000\n",
       "2         0      14948      1518      1500      1000      1000      1000      5000   34          3        0                2      90000\n",
       "3         0      28959      2000      2019      1200      1100      1069      1000   37          4        0                1      50000\n",
       "4         0      19146      2000     36681     10000      9000       689       679   57          7        0                1      50000"
      ]
     },
     "execution_count": 3,
     "metadata": {},
     "output_type": "execute_result"
    }
   ],
   "source": [
    "credit.head()"
   ]
  },
  {
   "cell_type": "code",
   "execution_count": 4,
   "metadata": {},
   "outputs": [
    {
     "data": {
      "text/plain": [
       "GRADUATE           0\n",
       "BILL_AMT5          0\n",
       "PAY_AMT1           0\n",
       "PAY_AMT2           0\n",
       "PAY_AMT3           0\n",
       "PAY_AMT4           0\n",
       "PAY_AMT5           0\n",
       "PAY_AMT6           0\n",
       "AGE                0\n",
       "AGE_GROUP          0\n",
       "default            0\n",
       "LIMIT_BAL_GROUP    0\n",
       "LIMIT_BAL          0\n",
       "dtype: int64"
      ]
     },
     "execution_count": 4,
     "metadata": {},
     "output_type": "execute_result"
    }
   ],
   "source": [
    "#remove unnecessary data that does not make any sense\n",
    "#drop duplicates - always\n",
    "credit = credit.drop_duplicates()\n",
    "#check for the nulls\n",
    "credit.dropna(axis=0, how=\"any\")\n",
    "nulls = credit.isnull().sum()\n",
    "nulls"
   ]
  },
  {
   "cell_type": "code",
   "execution_count": 5,
   "metadata": {},
   "outputs": [
    {
     "data": {
      "text/plain": [
       "GRADUATE           int64\n",
       "BILL_AMT5          int64\n",
       "PAY_AMT1           int64\n",
       "PAY_AMT2           int64\n",
       "PAY_AMT3           int64\n",
       "PAY_AMT4           int64\n",
       "PAY_AMT5           int64\n",
       "PAY_AMT6           int64\n",
       "AGE                int64\n",
       "AGE_GROUP          int64\n",
       "default            int64\n",
       "LIMIT_BAL_GROUP    int64\n",
       "LIMIT_BAL          int64\n",
       "dtype: object"
      ]
     },
     "execution_count": 5,
     "metadata": {},
     "output_type": "execute_result"
    }
   ],
   "source": [
    "credit.dtypes"
   ]
  },
  {
   "cell_type": "code",
   "execution_count": 6,
   "metadata": {},
   "outputs": [
    {
     "data": {
      "text/plain": [
       "count    29673.000000\n",
       "mean         0.220807\n",
       "std          0.414797\n",
       "min          0.000000\n",
       "25%          0.000000\n",
       "50%          0.000000\n",
       "75%          0.000000\n",
       "max          1.000000\n",
       "Name: default, dtype: float64"
      ]
     },
     "execution_count": 6,
     "metadata": {},
     "output_type": "execute_result"
    }
   ],
   "source": [
    "credit['default'].describe()"
   ]
  },
  {
   "cell_type": "code",
   "execution_count": 7,
   "metadata": {},
   "outputs": [
    {
     "data": {
      "text/plain": [
       "GRADUATE           int64\n",
       "BILL_AMT5          int64\n",
       "PAY_AMT1           int64\n",
       "PAY_AMT2           int64\n",
       "PAY_AMT3           int64\n",
       "PAY_AMT4           int64\n",
       "PAY_AMT5           int64\n",
       "PAY_AMT6           int64\n",
       "AGE                int64\n",
       "AGE_GROUP          int64\n",
       "default            int64\n",
       "LIMIT_BAL_GROUP    int64\n",
       "LIMIT_BAL          int64\n",
       "dtype: object"
      ]
     },
     "execution_count": 7,
     "metadata": {},
     "output_type": "execute_result"
    }
   ],
   "source": [
    "credit.dtypes"
   ]
  },
  {
   "cell_type": "code",
   "execution_count": 8,
   "metadata": {},
   "outputs": [
    {
     "data": {
      "text/html": [
       "<div>\n",
       "<style scoped>\n",
       "    .dataframe tbody tr th:only-of-type {\n",
       "        vertical-align: middle;\n",
       "    }\n",
       "\n",
       "    .dataframe tbody tr th {\n",
       "        vertical-align: top;\n",
       "    }\n",
       "\n",
       "    .dataframe thead th {\n",
       "        text-align: right;\n",
       "    }\n",
       "</style>\n",
       "<table border=\"1\" class=\"dataframe\">\n",
       "  <thead>\n",
       "    <tr style=\"text-align: right;\">\n",
       "      <th></th>\n",
       "      <th>GRADUATE</th>\n",
       "      <th>BILL_AMT5</th>\n",
       "      <th>PAY_AMT1</th>\n",
       "      <th>PAY_AMT2</th>\n",
       "      <th>PAY_AMT3</th>\n",
       "      <th>PAY_AMT4</th>\n",
       "      <th>PAY_AMT5</th>\n",
       "      <th>PAY_AMT6</th>\n",
       "      <th>AGE</th>\n",
       "      <th>AGE_GROUP</th>\n",
       "      <th>default</th>\n",
       "      <th>LIMIT_BAL_GROUP</th>\n",
       "      <th>LIMIT_BAL</th>\n",
       "    </tr>\n",
       "  </thead>\n",
       "  <tbody>\n",
       "    <tr>\n",
       "      <th>count</th>\n",
       "      <td>29673.000000</td>\n",
       "      <td>29673.000000</td>\n",
       "      <td>29673.000000</td>\n",
       "      <td>2.967300e+04</td>\n",
       "      <td>29673.000000</td>\n",
       "      <td>29673.000000</td>\n",
       "      <td>29673.000000</td>\n",
       "      <td>29673.000000</td>\n",
       "      <td>29673.000000</td>\n",
       "      <td>29673.000000</td>\n",
       "      <td>29673.000000</td>\n",
       "      <td>29673.000000</td>\n",
       "      <td>29673.000000</td>\n",
       "    </tr>\n",
       "    <tr>\n",
       "      <th>mean</th>\n",
       "      <td>0.351296</td>\n",
       "      <td>40753.744414</td>\n",
       "      <td>5725.735180</td>\n",
       "      <td>5.986292e+03</td>\n",
       "      <td>5283.145284</td>\n",
       "      <td>4879.136960</td>\n",
       "      <td>4852.153608</td>\n",
       "      <td>5272.854177</td>\n",
       "      <td>35.501870</td>\n",
       "      <td>3.462811</td>\n",
       "      <td>0.220807</td>\n",
       "      <td>3.257305</td>\n",
       "      <td>167330.896101</td>\n",
       "    </tr>\n",
       "    <tr>\n",
       "      <th>std</th>\n",
       "      <td>0.477383</td>\n",
       "      <td>60984.200602</td>\n",
       "      <td>16643.644619</td>\n",
       "      <td>2.315908e+04</td>\n",
       "      <td>17695.153072</td>\n",
       "      <td>15744.043323</td>\n",
       "      <td>15353.942551</td>\n",
       "      <td>17866.709541</td>\n",
       "      <td>9.232184</td>\n",
       "      <td>1.791121</td>\n",
       "      <td>0.414797</td>\n",
       "      <td>1.827954</td>\n",
       "      <td>129876.644855</td>\n",
       "    </tr>\n",
       "    <tr>\n",
       "      <th>min</th>\n",
       "      <td>0.000000</td>\n",
       "      <td>-81334.000000</td>\n",
       "      <td>0.000000</td>\n",
       "      <td>0.000000e+00</td>\n",
       "      <td>0.000000</td>\n",
       "      <td>0.000000</td>\n",
       "      <td>0.000000</td>\n",
       "      <td>0.000000</td>\n",
       "      <td>21.000000</td>\n",
       "      <td>1.000000</td>\n",
       "      <td>0.000000</td>\n",
       "      <td>1.000000</td>\n",
       "      <td>10000.000000</td>\n",
       "    </tr>\n",
       "    <tr>\n",
       "      <th>25%</th>\n",
       "      <td>0.000000</td>\n",
       "      <td>1981.000000</td>\n",
       "      <td>1000.000000</td>\n",
       "      <td>1.000000e+03</td>\n",
       "      <td>444.000000</td>\n",
       "      <td>324.000000</td>\n",
       "      <td>315.000000</td>\n",
       "      <td>200.000000</td>\n",
       "      <td>28.000000</td>\n",
       "      <td>2.000000</td>\n",
       "      <td>0.000000</td>\n",
       "      <td>1.000000</td>\n",
       "      <td>50000.000000</td>\n",
       "    </tr>\n",
       "    <tr>\n",
       "      <th>50%</th>\n",
       "      <td>0.000000</td>\n",
       "      <td>18413.000000</td>\n",
       "      <td>2157.000000</td>\n",
       "      <td>2.037000e+03</td>\n",
       "      <td>1880.000000</td>\n",
       "      <td>1502.000000</td>\n",
       "      <td>1544.000000</td>\n",
       "      <td>1500.000000</td>\n",
       "      <td>34.000000</td>\n",
       "      <td>3.000000</td>\n",
       "      <td>0.000000</td>\n",
       "      <td>3.000000</td>\n",
       "      <td>140000.000000</td>\n",
       "    </tr>\n",
       "    <tr>\n",
       "      <th>75%</th>\n",
       "      <td>1.000000</td>\n",
       "      <td>50673.000000</td>\n",
       "      <td>5025.000000</td>\n",
       "      <td>5.000000e+03</td>\n",
       "      <td>4600.000000</td>\n",
       "      <td>4100.000000</td>\n",
       "      <td>4100.000000</td>\n",
       "      <td>4032.000000</td>\n",
       "      <td>41.000000</td>\n",
       "      <td>5.000000</td>\n",
       "      <td>0.000000</td>\n",
       "      <td>5.000000</td>\n",
       "      <td>240000.000000</td>\n",
       "    </tr>\n",
       "    <tr>\n",
       "      <th>max</th>\n",
       "      <td>1.000000</td>\n",
       "      <td>927171.000000</td>\n",
       "      <td>873552.000000</td>\n",
       "      <td>1.684259e+06</td>\n",
       "      <td>896040.000000</td>\n",
       "      <td>621000.000000</td>\n",
       "      <td>426529.000000</td>\n",
       "      <td>528666.000000</td>\n",
       "      <td>79.000000</td>\n",
       "      <td>8.000000</td>\n",
       "      <td>1.000000</td>\n",
       "      <td>7.000000</td>\n",
       "      <td>1000000.000000</td>\n",
       "    </tr>\n",
       "  </tbody>\n",
       "</table>\n",
       "</div>"
      ],
      "text/plain": [
       "           GRADUATE      BILL_AMT5       PAY_AMT1      PAY_AMT2       PAY_AMT3       PAY_AMT4       PAY_AMT5       PAY_AMT6           AGE     AGE_GROUP       default  LIMIT_BAL_GROUP       LIMIT_BAL\n",
       "count  29673.000000   29673.000000   29673.000000  2.967300e+04   29673.000000   29673.000000   29673.000000   29673.000000  29673.000000  29673.000000  29673.000000     29673.000000    29673.000000\n",
       "mean       0.351296   40753.744414    5725.735180  5.986292e+03    5283.145284    4879.136960    4852.153608    5272.854177     35.501870      3.462811      0.220807         3.257305   167330.896101\n",
       "std        0.477383   60984.200602   16643.644619  2.315908e+04   17695.153072   15744.043323   15353.942551   17866.709541      9.232184      1.791121      0.414797         1.827954   129876.644855\n",
       "min        0.000000  -81334.000000       0.000000  0.000000e+00       0.000000       0.000000       0.000000       0.000000     21.000000      1.000000      0.000000         1.000000    10000.000000\n",
       "25%        0.000000    1981.000000    1000.000000  1.000000e+03     444.000000     324.000000     315.000000     200.000000     28.000000      2.000000      0.000000         1.000000    50000.000000\n",
       "50%        0.000000   18413.000000    2157.000000  2.037000e+03    1880.000000    1502.000000    1544.000000    1500.000000     34.000000      3.000000      0.000000         3.000000   140000.000000\n",
       "75%        1.000000   50673.000000    5025.000000  5.000000e+03    4600.000000    4100.000000    4100.000000    4032.000000     41.000000      5.000000      0.000000         5.000000   240000.000000\n",
       "max        1.000000  927171.000000  873552.000000  1.684259e+06  896040.000000  621000.000000  426529.000000  528666.000000     79.000000      8.000000      1.000000         7.000000  1000000.000000"
      ]
     },
     "execution_count": 8,
     "metadata": {},
     "output_type": "execute_result"
    }
   ],
   "source": [
    "credit.describe()"
   ]
  },
  {
   "cell_type": "code",
   "execution_count": 9,
   "metadata": {},
   "outputs": [
    {
     "data": {
      "text/html": [
       "<div>\n",
       "<style scoped>\n",
       "    .dataframe tbody tr th:only-of-type {\n",
       "        vertical-align: middle;\n",
       "    }\n",
       "\n",
       "    .dataframe tbody tr th {\n",
       "        vertical-align: top;\n",
       "    }\n",
       "\n",
       "    .dataframe thead th {\n",
       "        text-align: right;\n",
       "    }\n",
       "</style>\n",
       "<table border=\"1\" class=\"dataframe\">\n",
       "  <thead>\n",
       "    <tr style=\"text-align: right;\">\n",
       "      <th></th>\n",
       "      <th>GRADUATE</th>\n",
       "      <th>BILL_AMT5</th>\n",
       "      <th>PAY_AMT1</th>\n",
       "      <th>PAY_AMT2</th>\n",
       "      <th>PAY_AMT3</th>\n",
       "      <th>PAY_AMT4</th>\n",
       "      <th>PAY_AMT5</th>\n",
       "      <th>PAY_AMT6</th>\n",
       "      <th>AGE</th>\n",
       "      <th>AGE_GROUP</th>\n",
       "      <th>default</th>\n",
       "      <th>LIMIT_BAL_GROUP</th>\n",
       "      <th>LIMIT_BAL</th>\n",
       "    </tr>\n",
       "  </thead>\n",
       "  <tbody>\n",
       "    <tr>\n",
       "      <th>count</th>\n",
       "      <td>29673.000000</td>\n",
       "      <td>29673.000000</td>\n",
       "      <td>29673.000000</td>\n",
       "      <td>2.967300e+04</td>\n",
       "      <td>29673.000000</td>\n",
       "      <td>29673.000000</td>\n",
       "      <td>29673.000000</td>\n",
       "      <td>29673.000000</td>\n",
       "      <td>29673.000000</td>\n",
       "      <td>29673.000000</td>\n",
       "      <td>29673.000000</td>\n",
       "      <td>29673.000000</td>\n",
       "      <td>29673.000000</td>\n",
       "    </tr>\n",
       "    <tr>\n",
       "      <th>mean</th>\n",
       "      <td>0.351296</td>\n",
       "      <td>40753.744414</td>\n",
       "      <td>5725.735180</td>\n",
       "      <td>5.986292e+03</td>\n",
       "      <td>5283.145284</td>\n",
       "      <td>4879.136960</td>\n",
       "      <td>4852.153608</td>\n",
       "      <td>5272.854177</td>\n",
       "      <td>35.501870</td>\n",
       "      <td>3.462811</td>\n",
       "      <td>0.220807</td>\n",
       "      <td>3.257305</td>\n",
       "      <td>167330.896101</td>\n",
       "    </tr>\n",
       "    <tr>\n",
       "      <th>std</th>\n",
       "      <td>0.477383</td>\n",
       "      <td>60984.200602</td>\n",
       "      <td>16643.644619</td>\n",
       "      <td>2.315908e+04</td>\n",
       "      <td>17695.153072</td>\n",
       "      <td>15744.043323</td>\n",
       "      <td>15353.942551</td>\n",
       "      <td>17866.709541</td>\n",
       "      <td>9.232184</td>\n",
       "      <td>1.791121</td>\n",
       "      <td>0.414797</td>\n",
       "      <td>1.827954</td>\n",
       "      <td>129876.644855</td>\n",
       "    </tr>\n",
       "    <tr>\n",
       "      <th>min</th>\n",
       "      <td>0.000000</td>\n",
       "      <td>-81334.000000</td>\n",
       "      <td>0.000000</td>\n",
       "      <td>0.000000e+00</td>\n",
       "      <td>0.000000</td>\n",
       "      <td>0.000000</td>\n",
       "      <td>0.000000</td>\n",
       "      <td>0.000000</td>\n",
       "      <td>21.000000</td>\n",
       "      <td>1.000000</td>\n",
       "      <td>0.000000</td>\n",
       "      <td>1.000000</td>\n",
       "      <td>10000.000000</td>\n",
       "    </tr>\n",
       "    <tr>\n",
       "      <th>25%</th>\n",
       "      <td>0.000000</td>\n",
       "      <td>1981.000000</td>\n",
       "      <td>1000.000000</td>\n",
       "      <td>1.000000e+03</td>\n",
       "      <td>444.000000</td>\n",
       "      <td>324.000000</td>\n",
       "      <td>315.000000</td>\n",
       "      <td>200.000000</td>\n",
       "      <td>28.000000</td>\n",
       "      <td>2.000000</td>\n",
       "      <td>0.000000</td>\n",
       "      <td>1.000000</td>\n",
       "      <td>50000.000000</td>\n",
       "    </tr>\n",
       "    <tr>\n",
       "      <th>50%</th>\n",
       "      <td>0.000000</td>\n",
       "      <td>18413.000000</td>\n",
       "      <td>2157.000000</td>\n",
       "      <td>2.037000e+03</td>\n",
       "      <td>1880.000000</td>\n",
       "      <td>1502.000000</td>\n",
       "      <td>1544.000000</td>\n",
       "      <td>1500.000000</td>\n",
       "      <td>34.000000</td>\n",
       "      <td>3.000000</td>\n",
       "      <td>0.000000</td>\n",
       "      <td>3.000000</td>\n",
       "      <td>140000.000000</td>\n",
       "    </tr>\n",
       "    <tr>\n",
       "      <th>75%</th>\n",
       "      <td>1.000000</td>\n",
       "      <td>50673.000000</td>\n",
       "      <td>5025.000000</td>\n",
       "      <td>5.000000e+03</td>\n",
       "      <td>4600.000000</td>\n",
       "      <td>4100.000000</td>\n",
       "      <td>4100.000000</td>\n",
       "      <td>4032.000000</td>\n",
       "      <td>41.000000</td>\n",
       "      <td>5.000000</td>\n",
       "      <td>0.000000</td>\n",
       "      <td>5.000000</td>\n",
       "      <td>240000.000000</td>\n",
       "    </tr>\n",
       "    <tr>\n",
       "      <th>max</th>\n",
       "      <td>1.000000</td>\n",
       "      <td>927171.000000</td>\n",
       "      <td>873552.000000</td>\n",
       "      <td>1.684259e+06</td>\n",
       "      <td>896040.000000</td>\n",
       "      <td>621000.000000</td>\n",
       "      <td>426529.000000</td>\n",
       "      <td>528666.000000</td>\n",
       "      <td>79.000000</td>\n",
       "      <td>8.000000</td>\n",
       "      <td>1.000000</td>\n",
       "      <td>7.000000</td>\n",
       "      <td>1000000.000000</td>\n",
       "    </tr>\n",
       "  </tbody>\n",
       "</table>\n",
       "</div>"
      ],
      "text/plain": [
       "           GRADUATE      BILL_AMT5       PAY_AMT1      PAY_AMT2       PAY_AMT3       PAY_AMT4       PAY_AMT5       PAY_AMT6           AGE     AGE_GROUP       default  LIMIT_BAL_GROUP       LIMIT_BAL\n",
       "count  29673.000000   29673.000000   29673.000000  2.967300e+04   29673.000000   29673.000000   29673.000000   29673.000000  29673.000000  29673.000000  29673.000000     29673.000000    29673.000000\n",
       "mean       0.351296   40753.744414    5725.735180  5.986292e+03    5283.145284    4879.136960    4852.153608    5272.854177     35.501870      3.462811      0.220807         3.257305   167330.896101\n",
       "std        0.477383   60984.200602   16643.644619  2.315908e+04   17695.153072   15744.043323   15353.942551   17866.709541      9.232184      1.791121      0.414797         1.827954   129876.644855\n",
       "min        0.000000  -81334.000000       0.000000  0.000000e+00       0.000000       0.000000       0.000000       0.000000     21.000000      1.000000      0.000000         1.000000    10000.000000\n",
       "25%        0.000000    1981.000000    1000.000000  1.000000e+03     444.000000     324.000000     315.000000     200.000000     28.000000      2.000000      0.000000         1.000000    50000.000000\n",
       "50%        0.000000   18413.000000    2157.000000  2.037000e+03    1880.000000    1502.000000    1544.000000    1500.000000     34.000000      3.000000      0.000000         3.000000   140000.000000\n",
       "75%        1.000000   50673.000000    5025.000000  5.000000e+03    4600.000000    4100.000000    4100.000000    4032.000000     41.000000      5.000000      0.000000         5.000000   240000.000000\n",
       "max        1.000000  927171.000000  873552.000000  1.684259e+06  896040.000000  621000.000000  426529.000000  528666.000000     79.000000      8.000000      1.000000         7.000000  1000000.000000"
      ]
     },
     "execution_count": 9,
     "metadata": {},
     "output_type": "execute_result"
    }
   ],
   "source": [
    "credit.describe()\n",
    "#Let's review some of the data analysis output from the DataFrame describe method\n",
    "# 1. Sanity Check: All counts are same at 29965"
   ]
  },
  {
   "cell_type": "code",
   "execution_count": 10,
   "metadata": {},
   "outputs": [],
   "source": [
    "import pandas as pd\n",
    "import matplotlib.pyplot as plt"
   ]
  },
  {
   "cell_type": "code",
   "execution_count": 11,
   "metadata": {},
   "outputs": [
    {
     "name": "stdout",
     "output_type": "stream",
     "text": [
      "Index(['GRADUATE', 'BILL_AMT5', 'PAY_AMT1', 'PAY_AMT2', 'PAY_AMT3', 'PAY_AMT4',\n",
      "       'PAY_AMT5', 'PAY_AMT6', 'AGE', 'AGE_GROUP', 'default',\n",
      "       'LIMIT_BAL_GROUP', 'LIMIT_BAL'],\n",
      "      dtype='object')\n"
     ]
    }
   ],
   "source": [
    "header = credit.dtypes.index\n",
    "print(header)"
   ]
  },
  {
   "cell_type": "code",
   "execution_count": 12,
   "metadata": {},
   "outputs": [],
   "source": [
    "#import pandas_profiling\n",
    "#from pandas_profiling import ProfileReport\n",
    "#profile = ProfileReport(credit, title='Pandas Profile report', html={'style':{'full_width':True}})"
   ]
  },
  {
   "cell_type": "code",
   "execution_count": 13,
   "metadata": {},
   "outputs": [],
   "source": [
    "#profile.to_file(output_file=\"eda_mod.html\")\n",
    "#Review of the Panda profiling Report gives signficant insight into understanding the variables their distribution, min/max,SD, etc"
   ]
  },
  {
   "cell_type": "code",
   "execution_count": 12,
   "metadata": {},
   "outputs": [
    {
     "data": {
      "image/png": "[encoded data removed]",
      "text/plain": [
       "<Figure size 432x288 with 1 Axes>"
      ]
     },
     "metadata": {
      "needs_background": "light"
     },
     "output_type": "display_data"
    }
   ],
   "source": [
    "plt.hist(credit['LIMIT_BAL_GROUP'])\n",
    "plt.show()"
   ]
  },
  {
   "cell_type": "code",
   "execution_count": 41,
   "metadata": {},
   "outputs": [
    {
     "data": {
      "text/html": [
       "<div>\n",
       "<style scoped>\n",
       "    .dataframe tbody tr th:only-of-type {\n",
       "        vertical-align: middle;\n",
       "    }\n",
       "\n",
       "    .dataframe tbody tr th {\n",
       "        vertical-align: top;\n",
       "    }\n",
       "\n",
       "    .dataframe thead th {\n",
       "        text-align: right;\n",
       "    }\n",
       "</style>\n",
       "<table border=\"1\" class=\"dataframe\">\n",
       "  <thead>\n",
       "    <tr style=\"text-align: right;\">\n",
       "      <th></th>\n",
       "      <th></th>\n",
       "      <th>AGE</th>\n",
       "    </tr>\n",
       "    <tr>\n",
       "      <th>LIMIT_BAL_GROUP</th>\n",
       "      <th>default</th>\n",
       "      <th></th>\n",
       "    </tr>\n",
       "  </thead>\n",
       "  <tbody>\n",
       "    <tr>\n",
       "      <th rowspan=\"2\" valign=\"top\">1</th>\n",
       "      <th>0</th>\n",
       "      <td>5187</td>\n",
       "    </tr>\n",
       "    <tr>\n",
       "      <th>1</th>\n",
       "      <td>2420</td>\n",
       "    </tr>\n",
       "    <tr>\n",
       "      <th rowspan=\"2\" valign=\"top\">2</th>\n",
       "      <th>0</th>\n",
       "      <td>3542</td>\n",
       "    </tr>\n",
       "    <tr>\n",
       "      <th>1</th>\n",
       "      <td>1242</td>\n",
       "    </tr>\n",
       "    <tr>\n",
       "      <th rowspan=\"2\" valign=\"top\">3</th>\n",
       "      <th>0</th>\n",
       "      <td>3045</td>\n",
       "    </tr>\n",
       "    <tr>\n",
       "      <th>1</th>\n",
       "      <td>819</td>\n",
       "    </tr>\n",
       "    <tr>\n",
       "      <th rowspan=\"2\" valign=\"top\">4</th>\n",
       "      <th>0</th>\n",
       "      <td>3216</td>\n",
       "    </tr>\n",
       "    <tr>\n",
       "      <th>1</th>\n",
       "      <td>699</td>\n",
       "    </tr>\n",
       "    <tr>\n",
       "      <th rowspan=\"2\" valign=\"top\">5</th>\n",
       "      <th>0</th>\n",
       "      <td>4203</td>\n",
       "    </tr>\n",
       "    <tr>\n",
       "      <th>1</th>\n",
       "      <td>794</td>\n",
       "    </tr>\n",
       "    <tr>\n",
       "      <th rowspan=\"2\" valign=\"top\">6</th>\n",
       "      <th>0</th>\n",
       "      <td>3745</td>\n",
       "    </tr>\n",
       "    <tr>\n",
       "      <th>1</th>\n",
       "      <td>555</td>\n",
       "    </tr>\n",
       "    <tr>\n",
       "      <th rowspan=\"2\" valign=\"top\">7</th>\n",
       "      <th>0</th>\n",
       "      <td>183</td>\n",
       "    </tr>\n",
       "    <tr>\n",
       "      <th>1</th>\n",
       "      <td>23</td>\n",
       "    </tr>\n",
       "  </tbody>\n",
       "</table>\n",
       "</div>"
      ],
      "text/plain": [
       "                          AGE\n",
       "LIMIT_BAL_GROUP default      \n",
       "1               0        5187\n",
       "                1        2420\n",
       "2               0        3542\n",
       "                1        1242\n",
       "3               0        3045\n",
       "                1         819\n",
       "4               0        3216\n",
       "                1         699\n",
       "5               0        4203\n",
       "                1         794\n",
       "6               0        3745\n",
       "                1         555\n",
       "7               0         183\n",
       "                1          23"
      ]
     },
     "execution_count": 41,
     "metadata": {},
     "output_type": "execute_result"
    }
   ],
   "source": [
    "credit['LIMIT_BAL_GROUP'].describe()\n",
    "credit.pivot_table(index=['LIMIT_BAL_GROUP','default'], values='AGE', aggfunc='count')"
   ]
  },
  {
   "cell_type": "code",
   "execution_count": 13,
   "metadata": {},
   "outputs": [
    {
     "data": {
      "image/png": "[encoded data removed]",
      "text/plain": [
       "<Figure size 432x288 with 1 Axes>"
      ]
     },
     "metadata": {
      "needs_background": "light"
     },
     "output_type": "display_data"
    }
   ],
   "source": [
    "plt.hist(credit['AGE_GROUP'])\n",
    "plt.show()"
   ]
  },
  {
   "cell_type": "code",
   "execution_count": 16,
   "metadata": {},
   "outputs": [
    {
     "data": {
      "image/png": "[encoded data removed]",
      "text/plain": [
       "<Figure size 2160x2160 with 2 Axes>"
      ]
     },
     "metadata": {
      "needs_background": "light"
     },
     "output_type": "display_data"
    }
   ],
   "source": [
    "# Now Let's run the correlation matrix and see the relationship to the Limit_Balance before we do any discretization\n",
    "import numpy\n",
    "credit_corr = credit.corr()\n",
    "plt.figure(figsize=(30,30))\n",
    "sn.heatmap(credit_corr, annot=True)\n",
    "plt.show()"
   ]
  },
  {
   "cell_type": "code",
   "execution_count": 17,
   "metadata": {},
   "outputs": [
    {
     "data": {
      "text/html": [
       "<div>\n",
       "<style scoped>\n",
       "    .dataframe tbody tr th:only-of-type {\n",
       "        vertical-align: middle;\n",
       "    }\n",
       "\n",
       "    .dataframe tbody tr th {\n",
       "        vertical-align: top;\n",
       "    }\n",
       "\n",
       "    .dataframe thead th {\n",
       "        text-align: right;\n",
       "    }\n",
       "</style>\n",
       "<table border=\"1\" class=\"dataframe\">\n",
       "  <thead>\n",
       "    <tr style=\"text-align: right;\">\n",
       "      <th></th>\n",
       "      <th>GRADUATE</th>\n",
       "      <th>AGE_GROUP</th>\n",
       "      <th>BILL_AMT5</th>\n",
       "      <th>PAY_AMT1</th>\n",
       "      <th>PAY_AMT2</th>\n",
       "      <th>PAY_AMT3</th>\n",
       "      <th>PAY_AMT4</th>\n",
       "      <th>PAY_AMT5</th>\n",
       "      <th>PAY_AMT6</th>\n",
       "      <th>LIMIT_BAL_GROUP</th>\n",
       "      <th>default</th>\n",
       "      <th>AGE</th>\n",
       "      <th>LIMIT_BAL</th>\n",
       "    </tr>\n",
       "  </thead>\n",
       "  <tbody>\n",
       "    <tr>\n",
       "      <th>count</th>\n",
       "      <td>29673.000000</td>\n",
       "      <td>29673.000000</td>\n",
       "      <td>29673.000000</td>\n",
       "      <td>29673.000000</td>\n",
       "      <td>2.967300e+04</td>\n",
       "      <td>29673.000000</td>\n",
       "      <td>29673.000000</td>\n",
       "      <td>29673.000000</td>\n",
       "      <td>29673.000000</td>\n",
       "      <td>29673.000000</td>\n",
       "      <td>29673.000000</td>\n",
       "      <td>29673.000000</td>\n",
       "      <td>29673.000000</td>\n",
       "    </tr>\n",
       "    <tr>\n",
       "      <th>mean</th>\n",
       "      <td>0.351296</td>\n",
       "      <td>3.462811</td>\n",
       "      <td>40753.744414</td>\n",
       "      <td>5725.735180</td>\n",
       "      <td>5.986292e+03</td>\n",
       "      <td>5283.145284</td>\n",
       "      <td>4879.136960</td>\n",
       "      <td>4852.153608</td>\n",
       "      <td>5272.854177</td>\n",
       "      <td>3.257305</td>\n",
       "      <td>0.220807</td>\n",
       "      <td>35.501870</td>\n",
       "      <td>167330.896101</td>\n",
       "    </tr>\n",
       "    <tr>\n",
       "      <th>std</th>\n",
       "      <td>0.477383</td>\n",
       "      <td>1.791121</td>\n",
       "      <td>60984.200602</td>\n",
       "      <td>16643.644619</td>\n",
       "      <td>2.315908e+04</td>\n",
       "      <td>17695.153072</td>\n",
       "      <td>15744.043323</td>\n",
       "      <td>15353.942551</td>\n",
       "      <td>17866.709541</td>\n",
       "      <td>1.827954</td>\n",
       "      <td>0.414797</td>\n",
       "      <td>9.232184</td>\n",
       "      <td>129876.644855</td>\n",
       "    </tr>\n",
       "    <tr>\n",
       "      <th>min</th>\n",
       "      <td>0.000000</td>\n",
       "      <td>1.000000</td>\n",
       "      <td>-81334.000000</td>\n",
       "      <td>0.000000</td>\n",
       "      <td>0.000000e+00</td>\n",
       "      <td>0.000000</td>\n",
       "      <td>0.000000</td>\n",
       "      <td>0.000000</td>\n",
       "      <td>0.000000</td>\n",
       "      <td>1.000000</td>\n",
       "      <td>0.000000</td>\n",
       "      <td>21.000000</td>\n",
       "      <td>10000.000000</td>\n",
       "    </tr>\n",
       "    <tr>\n",
       "      <th>25%</th>\n",
       "      <td>0.000000</td>\n",
       "      <td>2.000000</td>\n",
       "      <td>1981.000000</td>\n",
       "      <td>1000.000000</td>\n",
       "      <td>1.000000e+03</td>\n",
       "      <td>444.000000</td>\n",
       "      <td>324.000000</td>\n",
       "      <td>315.000000</td>\n",
       "      <td>200.000000</td>\n",
       "      <td>1.000000</td>\n",
       "      <td>0.000000</td>\n",
       "      <td>28.000000</td>\n",
       "      <td>50000.000000</td>\n",
       "    </tr>\n",
       "    <tr>\n",
       "      <th>50%</th>\n",
       "      <td>0.000000</td>\n",
       "      <td>3.000000</td>\n",
       "      <td>18413.000000</td>\n",
       "      <td>2157.000000</td>\n",
       "      <td>2.037000e+03</td>\n",
       "      <td>1880.000000</td>\n",
       "      <td>1502.000000</td>\n",
       "      <td>1544.000000</td>\n",
       "      <td>1500.000000</td>\n",
       "      <td>3.000000</td>\n",
       "      <td>0.000000</td>\n",
       "      <td>34.000000</td>\n",
       "      <td>140000.000000</td>\n",
       "    </tr>\n",
       "    <tr>\n",
       "      <th>75%</th>\n",
       "      <td>1.000000</td>\n",
       "      <td>5.000000</td>\n",
       "      <td>50673.000000</td>\n",
       "      <td>5025.000000</td>\n",
       "      <td>5.000000e+03</td>\n",
       "      <td>4600.000000</td>\n",
       "      <td>4100.000000</td>\n",
       "      <td>4100.000000</td>\n",
       "      <td>4032.000000</td>\n",
       "      <td>5.000000</td>\n",
       "      <td>0.000000</td>\n",
       "      <td>41.000000</td>\n",
       "      <td>240000.000000</td>\n",
       "    </tr>\n",
       "    <tr>\n",
       "      <th>max</th>\n",
       "      <td>1.000000</td>\n",
       "      <td>8.000000</td>\n",
       "      <td>927171.000000</td>\n",
       "      <td>873552.000000</td>\n",
       "      <td>1.684259e+06</td>\n",
       "      <td>896040.000000</td>\n",
       "      <td>621000.000000</td>\n",
       "      <td>426529.000000</td>\n",
       "      <td>528666.000000</td>\n",
       "      <td>7.000000</td>\n",
       "      <td>1.000000</td>\n",
       "      <td>79.000000</td>\n",
       "      <td>1000000.000000</td>\n",
       "    </tr>\n",
       "  </tbody>\n",
       "</table>\n",
       "</div>"
      ],
      "text/plain": [
       "           GRADUATE     AGE_GROUP      BILL_AMT5       PAY_AMT1      PAY_AMT2       PAY_AMT3       PAY_AMT4       PAY_AMT5       PAY_AMT6  LIMIT_BAL_GROUP       default           AGE       LIMIT_BAL\n",
       "count  29673.000000  29673.000000   29673.000000   29673.000000  2.967300e+04   29673.000000   29673.000000   29673.000000   29673.000000     29673.000000  29673.000000  29673.000000    29673.000000\n",
       "mean       0.351296      3.462811   40753.744414    5725.735180  5.986292e+03    5283.145284    4879.136960    4852.153608    5272.854177         3.257305      0.220807     35.501870   167330.896101\n",
       "std        0.477383      1.791121   60984.200602   16643.644619  2.315908e+04   17695.153072   15744.043323   15353.942551   17866.709541         1.827954      0.414797      9.232184   129876.644855\n",
       "min        0.000000      1.000000  -81334.000000       0.000000  0.000000e+00       0.000000       0.000000       0.000000       0.000000         1.000000      0.000000     21.000000    10000.000000\n",
       "25%        0.000000      2.000000    1981.000000    1000.000000  1.000000e+03     444.000000     324.000000     315.000000     200.000000         1.000000      0.000000     28.000000    50000.000000\n",
       "50%        0.000000      3.000000   18413.000000    2157.000000  2.037000e+03    1880.000000    1502.000000    1544.000000    1500.000000         3.000000      0.000000     34.000000   140000.000000\n",
       "75%        1.000000      5.000000   50673.000000    5025.000000  5.000000e+03    4600.000000    4100.000000    4100.000000    4032.000000         5.000000      0.000000     41.000000   240000.000000\n",
       "max        1.000000      8.000000  927171.000000  873552.000000  1.684259e+06  896040.000000  621000.000000  426529.000000  528666.000000         7.000000      1.000000     79.000000  1000000.000000"
      ]
     },
     "execution_count": 17,
     "metadata": {},
     "output_type": "execute_result"
    }
   ],
   "source": [
    "credit.describe()"
   ]
  },
  {
   "cell_type": "code",
   "execution_count": 14,
   "metadata": {},
   "outputs": [],
   "source": [
    "#**************************************************************\n",
    "#       Course2 Task 3 - Now Let us build the Model\n",
    "#**************************************************************"
   ]
  },
  {
   "cell_type": "code",
   "execution_count": 42,
   "metadata": {},
   "outputs": [],
   "source": [
    "################################################################################\n",
    "# Course2 Task3 - Juptyer Notebook worksheet #\n",
    "# This Block makes all the Tools required to be Available for use\n",
    "# Import Basic Tools for DS dat analysis\n",
    "# Note: you may have to install pandas_profiling package before this could be run, if not installed already\n",
    "# conda activate datasciencebbk\n",
    "# conda install -c conda-forge pandas-profiling\n",
    "################################################################################\n",
    "import numpy as np\n",
    "import pandas as pd\n",
    "import scipy\n",
    "from math import sqrt\n",
    "import matplotlib.pyplot as plt\n",
    "\n",
    "#Import Model Estimators\n",
    "from sklearn import linear_model\n",
    "from sklearn.ensemble import RandomForestRegressor\n",
    "from sklearn.linear_model import LinearRegression\n",
    "from sklearn import svm\n",
    "from sklearn.svm import SVR\n",
    "\n",
    "# Import SKLearn package\n",
    "from sklearn.model_selection import train_test_split, cross_val_score, KFold, LeaveOneOut\n",
    "from sklearn.metrics import accuracy_score, classification_report\n",
    "from sklearn.ensemble import RandomForestClassifier, GradientBoostingClassifier\n",
    "from sklearn.neighbors import KNeighborsClassifier\n",
    "from sklearn.tree import DecisionTreeClassifier\n",
    "\n",
    "# Import SKLearn model metrics\n",
    "from sklearn.model_selection import train_test_split, cross_val_score\n",
    "from sklearn.metrics import accuracy_score, r2_score, mean_squared_error\n",
    "\n",
    "# Helper classes\n",
    "%matplotlib inline"
   ]
  },
  {
   "cell_type": "code",
   "execution_count": 43,
   "metadata": {},
   "outputs": [],
   "source": [
    "credit.head()\n",
    "#Create Filter to show only Customers who have NOT DEFAULTED\n",
    "filter = (credit['default'] < 1)\n",
    "creditgood = credit[filter]"
   ]
  },
  {
   "cell_type": "code",
   "execution_count": 44,
   "metadata": {},
   "outputs": [
    {
     "name": "stdout",
     "output_type": "stream",
     "text": [
      "----------------------------------------------------\n",
      "Summary of Independent variable Samples\n"
     ]
    },
    {
     "data": {
      "text/html": [
       "<div>\n",
       "<style scoped>\n",
       "    .dataframe tbody tr th:only-of-type {\n",
       "        vertical-align: middle;\n",
       "    }\n",
       "\n",
       "    .dataframe tbody tr th {\n",
       "        vertical-align: top;\n",
       "    }\n",
       "\n",
       "    .dataframe thead th {\n",
       "        text-align: right;\n",
       "    }\n",
       "</style>\n",
       "<table border=\"1\" class=\"dataframe\">\n",
       "  <thead>\n",
       "    <tr style=\"text-align: right;\">\n",
       "      <th></th>\n",
       "      <th>GRADUATE</th>\n",
       "      <th>BILL_AMT5</th>\n",
       "      <th>PAY_AMT1</th>\n",
       "      <th>PAY_AMT2</th>\n",
       "      <th>PAY_AMT3</th>\n",
       "      <th>PAY_AMT4</th>\n",
       "      <th>PAY_AMT5</th>\n",
       "      <th>PAY_AMT6</th>\n",
       "      <th>AGE</th>\n",
       "    </tr>\n",
       "  </thead>\n",
       "  <tbody>\n",
       "    <tr>\n",
       "      <th>2</th>\n",
       "      <td>0</td>\n",
       "      <td>14948</td>\n",
       "      <td>1518</td>\n",
       "      <td>1500</td>\n",
       "      <td>1000</td>\n",
       "      <td>1000</td>\n",
       "      <td>1000</td>\n",
       "      <td>5000</td>\n",
       "      <td>34</td>\n",
       "    </tr>\n",
       "    <tr>\n",
       "      <th>3</th>\n",
       "      <td>0</td>\n",
       "      <td>28959</td>\n",
       "      <td>2000</td>\n",
       "      <td>2019</td>\n",
       "      <td>1200</td>\n",
       "      <td>1100</td>\n",
       "      <td>1069</td>\n",
       "      <td>1000</td>\n",
       "      <td>37</td>\n",
       "    </tr>\n",
       "    <tr>\n",
       "      <th>4</th>\n",
       "      <td>0</td>\n",
       "      <td>19146</td>\n",
       "      <td>2000</td>\n",
       "      <td>36681</td>\n",
       "      <td>10000</td>\n",
       "      <td>9000</td>\n",
       "      <td>689</td>\n",
       "      <td>679</td>\n",
       "      <td>57</td>\n",
       "    </tr>\n",
       "    <tr>\n",
       "      <th>5</th>\n",
       "      <td>1</td>\n",
       "      <td>19619</td>\n",
       "      <td>2500</td>\n",
       "      <td>1815</td>\n",
       "      <td>657</td>\n",
       "      <td>1000</td>\n",
       "      <td>1000</td>\n",
       "      <td>800</td>\n",
       "      <td>37</td>\n",
       "    </tr>\n",
       "    <tr>\n",
       "      <th>6</th>\n",
       "      <td>1</td>\n",
       "      <td>483003</td>\n",
       "      <td>55000</td>\n",
       "      <td>40000</td>\n",
       "      <td>38000</td>\n",
       "      <td>20239</td>\n",
       "      <td>13750</td>\n",
       "      <td>13770</td>\n",
       "      <td>29</td>\n",
       "    </tr>\n",
       "  </tbody>\n",
       "</table>\n",
       "</div>"
      ],
      "text/plain": [
       "   GRADUATE  BILL_AMT5  PAY_AMT1  PAY_AMT2  PAY_AMT3  PAY_AMT4  PAY_AMT5  PAY_AMT6  AGE\n",
       "2         0      14948      1518      1500      1000      1000      1000      5000   34\n",
       "3         0      28959      2000      2019      1200      1100      1069      1000   37\n",
       "4         0      19146      2000     36681     10000      9000       689       679   57\n",
       "5         1      19619      2500      1815       657      1000      1000       800   37\n",
       "6         1     483003     55000     40000     38000     20239     13750     13770   29"
      ]
     },
     "execution_count": 44,
     "metadata": {},
     "output_type": "execute_result"
    }
   ],
   "source": [
    "# Indepedent variables assignement to X\n",
    "X = creditgood.iloc[:, 0:9]\n",
    "print('----------------------------------------------------')\n",
    "print('Summary of Independent variable Samples')\n",
    "X.head()\n"
   ]
  },
  {
   "cell_type": "code",
   "execution_count": 45,
   "metadata": {},
   "outputs": [
    {
     "name": "stdout",
     "output_type": "stream",
     "text": [
      "----------------------------------------------------\n"
     ]
    },
    {
     "data": {
      "text/plain": [
       "2    2\n",
       "3    1\n",
       "4    1\n",
       "5    1\n",
       "6    6\n",
       "Name: LIMIT_BAL_GROUP, dtype: int64"
      ]
     },
     "execution_count": 45,
     "metadata": {},
     "output_type": "execute_result"
    }
   ],
   "source": [
    "print('----------------------------------------------------')\n",
    "# Lets assign Outcome (dependent variable) for Y-axis - LIMIT_BAL_GROUP\n",
    "y = creditgood['LIMIT_BAL_GROUP']\n",
    "y.head()"
   ]
  },
  {
   "cell_type": "code",
   "execution_count": 47,
   "metadata": {},
   "outputs": [
    {
     "name": "stdout",
     "output_type": "stream",
     "text": [
      "Random Forest Classifier 0.40647030837766535\n",
      "Gradient Boosting Classifier 0.4223433242506813\n",
      "Decision Tree Classifier 0.31508152761558755\n",
      "K Neighbors Classifier 0.3093724319882358\n"
     ]
    }
   ],
   "source": [
    "# Decide and select the models for comparison and loop them in cross_val_score by passing appropriate model\n",
    "# algo_class is an array where we will assign the model name and the ModelClassifier\n",
    "algos_Class = []\n",
    "algos_Class.append(('Random Forest Classifier', RandomForestClassifier()))\n",
    "algos_Class.append(('Gradient Boosting Classifier', GradientBoostingClassifier()))\n",
    "algos_Class.append(('Decision Tree Classifier', DecisionTreeClassifier()))\n",
    "algos_Class.append(('K Neighbors Classifier', KNeighborsClassifier(n_neighbors=1)))#classification\n",
    "results = []\n",
    "names = []\n",
    "for name, model in algos_Class:\n",
    "    result = cross_val_score(model, X,y, cv=3, scoring='accuracy')\n",
    "    names.append(name)\n",
    "    results.append(result)\n",
    "#output\n",
    "for i in range(len(names)):\n",
    "    print(names[i],results[i].mean())"
   ]
  },
  {
   "cell_type": "code",
   "execution_count": 48,
   "metadata": {},
   "outputs": [],
   "source": [
    "#Classification Results\n",
    "results = []\n",
    "names = []\n",
    "for name, model in algos_Class:\n",
    "    result = cross_val_score(model, X,y, cv=3, scoring='r2')\n",
    "    names.append(name)\n",
    "    results.append(result)"
   ]
  },
  {
   "cell_type": "code",
   "execution_count": 49,
   "metadata": {},
   "outputs": [
    {
     "name": "stdout",
     "output_type": "stream",
     "text": [
      "Random Forest Classifier 0.12033482369179209\n",
      "Gradient Boosting Classifier 0.13401496083789596\n",
      "Decision Tree Classifier -0.07730128312089686\n",
      "K Neighbors Classifier -0.17946600768094992\n"
     ]
    }
   ],
   "source": [
    "for i in range(len(names)):\n",
    "    print(names[i],results[i].mean())"
   ]
  },
  {
   "cell_type": "code",
   "execution_count": 23,
   "metadata": {},
   "outputs": [
    {
     "data": {
      "text/plain": [
       "20949    1\n",
       "27913    1\n",
       "19086    4\n",
       "21652    1\n",
       "8464     6\n",
       "Name: LIMIT_BAL_GROUP, dtype: int64"
      ]
     },
     "execution_count": 23,
     "metadata": {},
     "output_type": "execute_result"
    }
   ],
   "source": [
    "#Train/Test Split\n",
    "X_train, X_test, y_train, y_test = train_test_split(X, y, test_size = .30, random_state = 123)\n",
    "X_train.head()\n",
    "y_train.head()\n",
    "y_test.head()"
   ]
  },
  {
   "cell_type": "code",
   "execution_count": 24,
   "metadata": {},
   "outputs": [],
   "source": [
    "# Based on the comparison above, Using the LIMIT_BAL_GROUP produces more accuracy when compared with LIMIT_BAL itself\n",
    "# However, the risk is associated with Discretization Range selected for the LIMIT_BAL_GROUP.\n",
    "# We will use the LIMIT_BAL for to proceed further with Training the model and assess and revisit the LIMIT_BAL_GROUP later\n",
    "algrthm = RandomForestRegressor()\n",
    "model = algrthm.fit(X_train, y_train)"
   ]
  },
  {
   "cell_type": "code",
   "execution_count": 26,
   "metadata": {},
   "outputs": [
    {
     "name": "stdout",
     "output_type": "stream",
     "text": [
      "R Squared: 0.436\n",
      "Error Margin is: 22.714\n",
      "RMSE: 1.363\n"
     ]
    }
   ],
   "source": [
    "#Make Predictions\n",
    "predictions = model.predict(X_test)\n",
    "predRsquared = r2_score(y_test,predictions)\n",
    "rmse = sqrt(mean_squared_error(y_test, predictions))\n",
    "print('R Squared: %.3f' % predRsquared)\n",
    "y_range = (y_test.max() - y_test.min());\n",
    "#print('Y Range is %.3f ' % y_range)\n",
    "model_error_margin = (rmse / y_range) * 100\n",
    "print('Error Margin is: %.3f' % model_error_margin)\n",
    "print('RMSE: %.3f' % rmse)"
   ]
  },
  {
   "cell_type": "code",
   "execution_count": 27,
   "metadata": {},
   "outputs": [
    {
     "data": {
      "image/png": "[encoded data removed]",
      "text/plain": [
       "<Figure size 864x576 with 1 Axes>"
      ]
     },
     "metadata": {
      "needs_background": "light"
     },
     "output_type": "display_data"
    }
   ],
   "source": [
    "plt.figure(figsize=(12, 8))\n",
    "plt.scatter(y_test, predictions, s=5, alpha = 0.5)\n",
    "plt.title(\"Credit Limit: Actual Vs Prediction comparison for NON-DEFAULTED Customers \")\n",
    "plt.xlabel('Ground Truth')\n",
    "plt.ylabel('Predictions')\n",
    "plt.grid()\n",
    "plt.show();"
   ]
  },
  {
   "cell_type": "code",
   "execution_count": 28,
   "metadata": {},
   "outputs": [],
   "source": [
    "credit.head()\n",
    "#Create Filter to show only Customers who have DEFAULTED\n",
    "filterdefaulted = (credit['default'] > 0)\n",
    "creditbad = credit[filterdefaulted]"
   ]
  },
  {
   "cell_type": "code",
   "execution_count": 29,
   "metadata": {},
   "outputs": [
    {
     "name": "stdout",
     "output_type": "stream",
     "text": [
      "----------------------------------------------------\n",
      "Summary of Independent variable Samples\n"
     ]
    },
    {
     "data": {
      "text/html": [
       "<div>\n",
       "<style scoped>\n",
       "    .dataframe tbody tr th:only-of-type {\n",
       "        vertical-align: middle;\n",
       "    }\n",
       "\n",
       "    .dataframe tbody tr th {\n",
       "        vertical-align: top;\n",
       "    }\n",
       "\n",
       "    .dataframe thead th {\n",
       "        text-align: right;\n",
       "    }\n",
       "</style>\n",
       "<table border=\"1\" class=\"dataframe\">\n",
       "  <thead>\n",
       "    <tr style=\"text-align: right;\">\n",
       "      <th></th>\n",
       "      <th>GRADUATE</th>\n",
       "      <th>BILL_AMT5</th>\n",
       "      <th>PAY_AMT1</th>\n",
       "      <th>PAY_AMT2</th>\n",
       "      <th>PAY_AMT3</th>\n",
       "      <th>PAY_AMT4</th>\n",
       "      <th>PAY_AMT5</th>\n",
       "      <th>PAY_AMT6</th>\n",
       "      <th>AGE</th>\n",
       "    </tr>\n",
       "  </thead>\n",
       "  <tbody>\n",
       "    <tr>\n",
       "      <th>0</th>\n",
       "      <td>0</td>\n",
       "      <td>0</td>\n",
       "      <td>0</td>\n",
       "      <td>689</td>\n",
       "      <td>0</td>\n",
       "      <td>0</td>\n",
       "      <td>0</td>\n",
       "      <td>0</td>\n",
       "      <td>24</td>\n",
       "    </tr>\n",
       "    <tr>\n",
       "      <th>1</th>\n",
       "      <td>0</td>\n",
       "      <td>3455</td>\n",
       "      <td>0</td>\n",
       "      <td>1000</td>\n",
       "      <td>1000</td>\n",
       "      <td>1000</td>\n",
       "      <td>0</td>\n",
       "      <td>2000</td>\n",
       "      <td>26</td>\n",
       "    </tr>\n",
       "    <tr>\n",
       "      <th>13</th>\n",
       "      <td>0</td>\n",
       "      <td>36137</td>\n",
       "      <td>3200</td>\n",
       "      <td>0</td>\n",
       "      <td>3000</td>\n",
       "      <td>3000</td>\n",
       "      <td>1500</td>\n",
       "      <td>0</td>\n",
       "      <td>30</td>\n",
       "    </tr>\n",
       "    <tr>\n",
       "      <th>16</th>\n",
       "      <td>1</td>\n",
       "      <td>17905</td>\n",
       "      <td>3200</td>\n",
       "      <td>0</td>\n",
       "      <td>1500</td>\n",
       "      <td>0</td>\n",
       "      <td>1650</td>\n",
       "      <td>0</td>\n",
       "      <td>24</td>\n",
       "    </tr>\n",
       "    <tr>\n",
       "      <th>21</th>\n",
       "      <td>0</td>\n",
       "      <td>632</td>\n",
       "      <td>316</td>\n",
       "      <td>316</td>\n",
       "      <td>0</td>\n",
       "      <td>632</td>\n",
       "      <td>316</td>\n",
       "      <td>0</td>\n",
       "      <td>39</td>\n",
       "    </tr>\n",
       "  </tbody>\n",
       "</table>\n",
       "</div>"
      ],
      "text/plain": [
       "    GRADUATE  BILL_AMT5  PAY_AMT1  PAY_AMT2  PAY_AMT3  PAY_AMT4  PAY_AMT5  PAY_AMT6  AGE\n",
       "0          0          0         0       689         0         0         0         0   24\n",
       "1          0       3455         0      1000      1000      1000         0      2000   26\n",
       "13         0      36137      3200         0      3000      3000      1500         0   30\n",
       "16         1      17905      3200         0      1500         0      1650         0   24\n",
       "21         0        632       316       316         0       632       316         0   39"
      ]
     },
     "execution_count": 29,
     "metadata": {},
     "output_type": "execute_result"
    }
   ],
   "source": [
    "# Indepedent variables assignement to X\n",
    "X = creditbad.iloc[:, 0:9]\n",
    "print('----------------------------------------------------')\n",
    "print('Summary of Independent variable Samples')\n",
    "X.head()"
   ]
  },
  {
   "cell_type": "code",
   "execution_count": 30,
   "metadata": {},
   "outputs": [
    {
     "name": "stdout",
     "output_type": "stream",
     "text": [
      "----------------------------------------------------\n"
     ]
    },
    {
     "data": {
      "text/plain": [
       "0     1\n",
       "1     3\n",
       "13    2\n",
       "16    1\n",
       "21    3\n",
       "Name: LIMIT_BAL_GROUP, dtype: int64"
      ]
     },
     "execution_count": 30,
     "metadata": {},
     "output_type": "execute_result"
    }
   ],
   "source": [
    "print('----------------------------------------------------')\n",
    "# Lets assign Outcome (dependent variable) for Y-axis - Change it to LIMIT BAL \n",
    "# Let's verify to see if this changes the outcome of the Model\n",
    "y = creditbad['LIMIT_BAL_GROUP']\n",
    "y.head()"
   ]
  },
  {
   "cell_type": "code",
   "execution_count": 31,
   "metadata": {},
   "outputs": [],
   "source": [
    "results = []\n",
    "names = []\n",
    "for name, model in algrthmClassArray:\n",
    "    result = cross_val_score(model, X,y, cv=3, scoring='r2')\n",
    "    names.append(name)\n",
    "    results.append(result)"
   ]
  },
  {
   "cell_type": "code",
   "execution_count": 32,
   "metadata": {},
   "outputs": [
    {
     "name": "stdout",
     "output_type": "stream",
     "text": [
      "Random Forest Regressor 0.4824390690569615\n",
      "Linear Regression 0.24103725189897704\n",
      "Support Vector Regression 0.33915398091917576\n"
     ]
    }
   ],
   "source": [
    "for i in range(len(names)):\n",
    "    print(names[i],results[i].mean())"
   ]
  },
  {
   "cell_type": "code",
   "execution_count": 33,
   "metadata": {},
   "outputs": [
    {
     "data": {
      "text/plain": [
       "9451     1\n",
       "13979    1\n",
       "10332    4\n",
       "7829     3\n",
       "6944     4\n",
       "Name: LIMIT_BAL_GROUP, dtype: int64"
      ]
     },
     "execution_count": 33,
     "metadata": {},
     "output_type": "execute_result"
    }
   ],
   "source": [
    "#Train/Test Split\n",
    "X_train, X_test, y_train, y_test = train_test_split(X, y, test_size = .30, random_state = 123)\n",
    "X_train.head()\n",
    "y_train.head()\n",
    "y_test.head()"
   ]
  },
  {
   "cell_type": "code",
   "execution_count": 34,
   "metadata": {},
   "outputs": [],
   "source": [
    "# Based on the comparison above, Using the LIMIT_BAL_GROUP produces more accuracy when compared with LIMIT_BAL itself\n",
    "# However, the risk is associated with Discretization Range selected for the LIMIT_BAL_GROUP.\n",
    "# We will use the LIMIT_BAL for to proceed further with Training the model and assess and revisit the LIMIT_BAL_GROUP later\n",
    "algrthm = RandomForestRegressor()\n",
    "model = algrthm.fit(X_train, y_train)"
   ]
  },
  {
   "cell_type": "code",
   "execution_count": 35,
   "metadata": {},
   "outputs": [
    {
     "name": "stdout",
     "output_type": "stream",
     "text": [
      "R Squared: 0.484\n",
      "Error Margin is: 20.874\n",
      "RMSE: 1.252\n"
     ]
    }
   ],
   "source": [
    "#Make Predictions\n",
    "predictions = model.predict(X_test)\n",
    "predRsquared = r2_score(y_test,predictions)\n",
    "rmse = sqrt(mean_squared_error(y_test, predictions))\n",
    "print('R Squared: %.3f' % predRsquared)\n",
    "y_range = (y_test.max() - y_test.min());\n",
    "#print('Y Range is %.3f ' % y_range)\n",
    "model_error_margin = (rmse / y_range) * 100\n",
    "print('Error Margin is: %.3f' % model_error_margin)\n",
    "print('RMSE: %.3f' % rmse)"
   ]
  },
  {
   "cell_type": "code",
   "execution_count": 36,
   "metadata": {},
   "outputs": [
    {
     "data": {
      "image/png": "[encoded data removed]",
      "text/plain": [
       "<Figure size 864x576 with 1 Axes>"
      ]
     },
     "metadata": {
      "needs_background": "light"
     },
     "output_type": "display_data"
    }
   ],
   "source": [
    "plt.figure(figsize=(12, 8))\n",
    "plt.scatter(y_test, predictions, s=5, alpha = 0.5)\n",
    "plt.title(\"Actual Vs Prediction comparison for DEFAULTED Customers \")\n",
    "plt.xlabel('Ground Truth')\n",
    "plt.ylabel('Predictions')\n",
    "plt.grid()\n",
    "plt.show();"
   ]
  }
 ],
 "metadata": {
  "kernelspec": {
   "display_name": "datasciencebbk",
   "language": "python",
   "name": "datasciencebbk"
  },
  "language_info": {
   "codemirror_mode": {
    "name": "ipython",
    "version": 3
   },
   "file_extension": ".py",
   "mimetype": "text/x-python",
   "name": "python",
   "nbconvert_exporter": "python",
   "pygments_lexer": "ipython3",
   "version": "3.8.1"
  }
 },
 "nbformat": 4,
 "nbformat_minor": 2
}
