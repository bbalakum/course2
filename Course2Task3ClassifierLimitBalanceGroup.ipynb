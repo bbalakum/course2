{
 "cells": [
  {
   "cell_type": "code",
   "execution_count": 1,
   "metadata": {},
   "outputs": [],
   "source": [
    "import pandas as pd\n",
    "pd.set_option('display.max_columns', None)  \n",
    "pd.set_option('display.expand_frame_repr', False)\n",
    "pd.set_option('max_colwidth', None)\n",
    "#\n",
    "from sklearn.preprocessing import OneHotEncoder, LabelEncoder, MinMaxScaler\n",
    "from sklearn.impute import SimpleImputer\n",
    "import matplotlib.pyplot as plt\n",
    "import seaborn as sn"
   ]
  },
  {
   "cell_type": "code",
   "execution_count": 2,
   "metadata": {},
   "outputs": [],
   "source": [
    "credit = pd.read_csv(\"C:\\\\bbk\\predictiveanalytics\\course2\\DefaultedCreditCardClients.csv\")"
   ]
  },
  {
   "cell_type": "code",
   "execution_count": 3,
   "metadata": {},
   "outputs": [
    {
     "data": {
      "text/html": [
       "<div>\n",
       "<style scoped>\n",
       "    .dataframe tbody tr th:only-of-type {\n",
       "        vertical-align: middle;\n",
       "    }\n",
       "\n",
       "    .dataframe tbody tr th {\n",
       "        vertical-align: top;\n",
       "    }\n",
       "\n",
       "    .dataframe thead th {\n",
       "        text-align: right;\n",
       "    }\n",
       "</style>\n",
       "<table border=\"1\" class=\"dataframe\">\n",
       "  <thead>\n",
       "    <tr style=\"text-align: right;\">\n",
       "      <th></th>\n",
       "      <th>GRADUATE</th>\n",
       "      <th>BILL_AMT5</th>\n",
       "      <th>PAY_AMT1</th>\n",
       "      <th>PAY_AMT2</th>\n",
       "      <th>PAY_AMT3</th>\n",
       "      <th>PAY_AMT4</th>\n",
       "      <th>PAY_AMT5</th>\n",
       "      <th>PAY_AMT6</th>\n",
       "      <th>AGE</th>\n",
       "      <th>AGE_GROUP</th>\n",
       "      <th>default</th>\n",
       "      <th>LIMIT_BAL_GROUP</th>\n",
       "      <th>LIMIT_BAL</th>\n",
       "    </tr>\n",
       "  </thead>\n",
       "  <tbody>\n",
       "    <tr>\n",
       "      <th>0</th>\n",
       "      <td>0</td>\n",
       "      <td>0</td>\n",
       "      <td>0</td>\n",
       "      <td>689</td>\n",
       "      <td>0</td>\n",
       "      <td>0</td>\n",
       "      <td>0</td>\n",
       "      <td>0</td>\n",
       "      <td>24</td>\n",
       "      <td>1</td>\n",
       "      <td>1</td>\n",
       "      <td>1</td>\n",
       "      <td>20000</td>\n",
       "    </tr>\n",
       "    <tr>\n",
       "      <th>1</th>\n",
       "      <td>0</td>\n",
       "      <td>3455</td>\n",
       "      <td>0</td>\n",
       "      <td>1000</td>\n",
       "      <td>1000</td>\n",
       "      <td>1000</td>\n",
       "      <td>0</td>\n",
       "      <td>2000</td>\n",
       "      <td>26</td>\n",
       "      <td>2</td>\n",
       "      <td>1</td>\n",
       "      <td>3</td>\n",
       "      <td>120000</td>\n",
       "    </tr>\n",
       "    <tr>\n",
       "      <th>2</th>\n",
       "      <td>0</td>\n",
       "      <td>14948</td>\n",
       "      <td>1518</td>\n",
       "      <td>1500</td>\n",
       "      <td>1000</td>\n",
       "      <td>1000</td>\n",
       "      <td>1000</td>\n",
       "      <td>5000</td>\n",
       "      <td>34</td>\n",
       "      <td>3</td>\n",
       "      <td>0</td>\n",
       "      <td>2</td>\n",
       "      <td>90000</td>\n",
       "    </tr>\n",
       "    <tr>\n",
       "      <th>3</th>\n",
       "      <td>0</td>\n",
       "      <td>28959</td>\n",
       "      <td>2000</td>\n",
       "      <td>2019</td>\n",
       "      <td>1200</td>\n",
       "      <td>1100</td>\n",
       "      <td>1069</td>\n",
       "      <td>1000</td>\n",
       "      <td>37</td>\n",
       "      <td>4</td>\n",
       "      <td>0</td>\n",
       "      <td>1</td>\n",
       "      <td>50000</td>\n",
       "    </tr>\n",
       "    <tr>\n",
       "      <th>4</th>\n",
       "      <td>0</td>\n",
       "      <td>19146</td>\n",
       "      <td>2000</td>\n",
       "      <td>36681</td>\n",
       "      <td>10000</td>\n",
       "      <td>9000</td>\n",
       "      <td>689</td>\n",
       "      <td>679</td>\n",
       "      <td>57</td>\n",
       "      <td>7</td>\n",
       "      <td>0</td>\n",
       "      <td>1</td>\n",
       "      <td>50000</td>\n",
       "    </tr>\n",
       "  </tbody>\n",
       "</table>\n",
       "</div>"
      ],
      "text/plain": [
       "   GRADUATE  BILL_AMT5  PAY_AMT1  PAY_AMT2  PAY_AMT3  PAY_AMT4  PAY_AMT5  PAY_AMT6  AGE  AGE_GROUP  default  LIMIT_BAL_GROUP  LIMIT_BAL\n",
       "0         0          0         0       689         0         0         0         0   24          1        1                1      20000\n",
       "1         0       3455         0      1000      1000      1000         0      2000   26          2        1                3     120000\n",
       "2         0      14948      1518      1500      1000      1000      1000      5000   34          3        0                2      90000\n",
       "3         0      28959      2000      2019      1200      1100      1069      1000   37          4        0                1      50000\n",
       "4         0      19146      2000     36681     10000      9000       689       679   57          7        0                1      50000"
      ]
     },
     "execution_count": 3,
     "metadata": {},
     "output_type": "execute_result"
    }
   ],
   "source": [
    "credit.head()"
   ]
  },
  {
   "cell_type": "code",
   "execution_count": 4,
   "metadata": {},
   "outputs": [
    {
     "data": {
      "text/html": [
       "<div>\n",
       "<style scoped>\n",
       "    .dataframe tbody tr th:only-of-type {\n",
       "        vertical-align: middle;\n",
       "    }\n",
       "\n",
       "    .dataframe tbody tr th {\n",
       "        vertical-align: top;\n",
       "    }\n",
       "\n",
       "    .dataframe thead th {\n",
       "        text-align: right;\n",
       "    }\n",
       "</style>\n",
       "<table border=\"1\" class=\"dataframe\">\n",
       "  <thead>\n",
       "    <tr style=\"text-align: right;\">\n",
       "      <th></th>\n",
       "      <th>GRADUATE</th>\n",
       "      <th>BILL_AMT5</th>\n",
       "      <th>PAY_AMT1</th>\n",
       "      <th>PAY_AMT2</th>\n",
       "      <th>PAY_AMT3</th>\n",
       "      <th>PAY_AMT4</th>\n",
       "      <th>PAY_AMT5</th>\n",
       "      <th>PAY_AMT6</th>\n",
       "      <th>AGE</th>\n",
       "      <th>AGE_GROUP</th>\n",
       "      <th>default</th>\n",
       "      <th>LIMIT_BAL_GROUP</th>\n",
       "      <th>LIMIT_BAL</th>\n",
       "    </tr>\n",
       "  </thead>\n",
       "  <tbody>\n",
       "    <tr>\n",
       "      <th>count</th>\n",
       "      <td>30000.000000</td>\n",
       "      <td>30000.000000</td>\n",
       "      <td>30000.000000</td>\n",
       "      <td>3.000000e+04</td>\n",
       "      <td>30000.00000</td>\n",
       "      <td>30000.000000</td>\n",
       "      <td>30000.000000</td>\n",
       "      <td>30000.000000</td>\n",
       "      <td>30000.000000</td>\n",
       "      <td>30000.000000</td>\n",
       "      <td>30000.000000</td>\n",
       "      <td>30000.000000</td>\n",
       "      <td>30000.000000</td>\n",
       "    </tr>\n",
       "    <tr>\n",
       "      <th>mean</th>\n",
       "      <td>0.352833</td>\n",
       "      <td>40311.400967</td>\n",
       "      <td>5663.580500</td>\n",
       "      <td>5.921163e+03</td>\n",
       "      <td>5225.68150</td>\n",
       "      <td>4826.076867</td>\n",
       "      <td>4799.387633</td>\n",
       "      <td>5215.502567</td>\n",
       "      <td>35.485500</td>\n",
       "      <td>3.459700</td>\n",
       "      <td>0.221200</td>\n",
       "      <td>3.260567</td>\n",
       "      <td>167484.322667</td>\n",
       "    </tr>\n",
       "    <tr>\n",
       "      <th>std</th>\n",
       "      <td>0.477859</td>\n",
       "      <td>60797.155770</td>\n",
       "      <td>16563.280354</td>\n",
       "      <td>2.304087e+04</td>\n",
       "      <td>17606.96147</td>\n",
       "      <td>15666.159744</td>\n",
       "      <td>15278.305679</td>\n",
       "      <td>17777.465775</td>\n",
       "      <td>9.217904</td>\n",
       "      <td>1.788654</td>\n",
       "      <td>0.415062</td>\n",
       "      <td>1.827708</td>\n",
       "      <td>129747.661567</td>\n",
       "    </tr>\n",
       "    <tr>\n",
       "      <th>min</th>\n",
       "      <td>0.000000</td>\n",
       "      <td>-81334.000000</td>\n",
       "      <td>0.000000</td>\n",
       "      <td>0.000000e+00</td>\n",
       "      <td>0.00000</td>\n",
       "      <td>0.000000</td>\n",
       "      <td>0.000000</td>\n",
       "      <td>0.000000</td>\n",
       "      <td>21.000000</td>\n",
       "      <td>1.000000</td>\n",
       "      <td>0.000000</td>\n",
       "      <td>1.000000</td>\n",
       "      <td>10000.000000</td>\n",
       "    </tr>\n",
       "    <tr>\n",
       "      <th>25%</th>\n",
       "      <td>0.000000</td>\n",
       "      <td>1763.000000</td>\n",
       "      <td>1000.000000</td>\n",
       "      <td>8.330000e+02</td>\n",
       "      <td>390.00000</td>\n",
       "      <td>296.000000</td>\n",
       "      <td>252.500000</td>\n",
       "      <td>117.750000</td>\n",
       "      <td>28.000000</td>\n",
       "      <td>2.000000</td>\n",
       "      <td>0.000000</td>\n",
       "      <td>1.000000</td>\n",
       "      <td>50000.000000</td>\n",
       "    </tr>\n",
       "    <tr>\n",
       "      <th>50%</th>\n",
       "      <td>0.000000</td>\n",
       "      <td>18104.500000</td>\n",
       "      <td>2100.000000</td>\n",
       "      <td>2.009000e+03</td>\n",
       "      <td>1800.00000</td>\n",
       "      <td>1500.000000</td>\n",
       "      <td>1500.000000</td>\n",
       "      <td>1500.000000</td>\n",
       "      <td>34.000000</td>\n",
       "      <td>3.000000</td>\n",
       "      <td>0.000000</td>\n",
       "      <td>3.000000</td>\n",
       "      <td>140000.000000</td>\n",
       "    </tr>\n",
       "    <tr>\n",
       "      <th>75%</th>\n",
       "      <td>1.000000</td>\n",
       "      <td>50190.500000</td>\n",
       "      <td>5006.000000</td>\n",
       "      <td>5.000000e+03</td>\n",
       "      <td>4505.00000</td>\n",
       "      <td>4013.250000</td>\n",
       "      <td>4031.500000</td>\n",
       "      <td>4000.000000</td>\n",
       "      <td>41.000000</td>\n",
       "      <td>5.000000</td>\n",
       "      <td>0.000000</td>\n",
       "      <td>5.000000</td>\n",
       "      <td>240000.000000</td>\n",
       "    </tr>\n",
       "    <tr>\n",
       "      <th>max</th>\n",
       "      <td>1.000000</td>\n",
       "      <td>927171.000000</td>\n",
       "      <td>873552.000000</td>\n",
       "      <td>1.684259e+06</td>\n",
       "      <td>896040.00000</td>\n",
       "      <td>621000.000000</td>\n",
       "      <td>426529.000000</td>\n",
       "      <td>528666.000000</td>\n",
       "      <td>79.000000</td>\n",
       "      <td>8.000000</td>\n",
       "      <td>1.000000</td>\n",
       "      <td>7.000000</td>\n",
       "      <td>1000000.000000</td>\n",
       "    </tr>\n",
       "  </tbody>\n",
       "</table>\n",
       "</div>"
      ],
      "text/plain": [
       "           GRADUATE      BILL_AMT5       PAY_AMT1      PAY_AMT2      PAY_AMT3       PAY_AMT4       PAY_AMT5       PAY_AMT6           AGE     AGE_GROUP       default  LIMIT_BAL_GROUP       LIMIT_BAL\n",
       "count  30000.000000   30000.000000   30000.000000  3.000000e+04   30000.00000   30000.000000   30000.000000   30000.000000  30000.000000  30000.000000  30000.000000     30000.000000    30000.000000\n",
       "mean       0.352833   40311.400967    5663.580500  5.921163e+03    5225.68150    4826.076867    4799.387633    5215.502567     35.485500      3.459700      0.221200         3.260567   167484.322667\n",
       "std        0.477859   60797.155770   16563.280354  2.304087e+04   17606.96147   15666.159744   15278.305679   17777.465775      9.217904      1.788654      0.415062         1.827708   129747.661567\n",
       "min        0.000000  -81334.000000       0.000000  0.000000e+00       0.00000       0.000000       0.000000       0.000000     21.000000      1.000000      0.000000         1.000000    10000.000000\n",
       "25%        0.000000    1763.000000    1000.000000  8.330000e+02     390.00000     296.000000     252.500000     117.750000     28.000000      2.000000      0.000000         1.000000    50000.000000\n",
       "50%        0.000000   18104.500000    2100.000000  2.009000e+03    1800.00000    1500.000000    1500.000000    1500.000000     34.000000      3.000000      0.000000         3.000000   140000.000000\n",
       "75%        1.000000   50190.500000    5006.000000  5.000000e+03    4505.00000    4013.250000    4031.500000    4000.000000     41.000000      5.000000      0.000000         5.000000   240000.000000\n",
       "max        1.000000  927171.000000  873552.000000  1.684259e+06  896040.00000  621000.000000  426529.000000  528666.000000     79.000000      8.000000      1.000000         7.000000  1000000.000000"
      ]
     },
     "execution_count": 4,
     "metadata": {},
     "output_type": "execute_result"
    }
   ],
   "source": [
    "credit.describe()"
   ]
  },
  {
   "cell_type": "code",
   "execution_count": 5,
   "metadata": {},
   "outputs": [
    {
     "data": {
      "text/plain": [
       "GRADUATE           0\n",
       "BILL_AMT5          0\n",
       "PAY_AMT1           0\n",
       "PAY_AMT2           0\n",
       "PAY_AMT3           0\n",
       "PAY_AMT4           0\n",
       "PAY_AMT5           0\n",
       "PAY_AMT6           0\n",
       "AGE                0\n",
       "AGE_GROUP          0\n",
       "default            0\n",
       "LIMIT_BAL_GROUP    0\n",
       "LIMIT_BAL          0\n",
       "dtype: int64"
      ]
     },
     "execution_count": 5,
     "metadata": {},
     "output_type": "execute_result"
    }
   ],
   "source": [
    "#remove unnecessary data that does not make any sense\n",
    "#drop duplicates - always\n",
    "credit = credit.drop_duplicates()\n",
    "#check for the nulls\n",
    "credit.dropna(axis=0, how=\"any\")\n",
    "nulls = credit.isnull().sum()\n",
    "nulls"
   ]
  },
  {
   "cell_type": "code",
   "execution_count": 6,
   "metadata": {},
   "outputs": [
    {
     "data": {
      "text/plain": [
       "GRADUATE           int64\n",
       "BILL_AMT5          int64\n",
       "PAY_AMT1           int64\n",
       "PAY_AMT2           int64\n",
       "PAY_AMT3           int64\n",
       "PAY_AMT4           int64\n",
       "PAY_AMT5           int64\n",
       "PAY_AMT6           int64\n",
       "AGE                int64\n",
       "AGE_GROUP          int64\n",
       "default            int64\n",
       "LIMIT_BAL_GROUP    int64\n",
       "LIMIT_BAL          int64\n",
       "dtype: object"
      ]
     },
     "execution_count": 6,
     "metadata": {},
     "output_type": "execute_result"
    }
   ],
   "source": [
    "credit.dtypes"
   ]
  },
  {
   "cell_type": "code",
   "execution_count": 7,
   "metadata": {},
   "outputs": [
    {
     "data": {
      "text/plain": [
       "count    29673.000000\n",
       "mean         3.257305\n",
       "std          1.827954\n",
       "min          1.000000\n",
       "25%          1.000000\n",
       "50%          3.000000\n",
       "75%          5.000000\n",
       "max          7.000000\n",
       "Name: LIMIT_BAL_GROUP, dtype: float64"
      ]
     },
     "execution_count": 7,
     "metadata": {},
     "output_type": "execute_result"
    }
   ],
   "source": [
    "credit['LIMIT_BAL_GROUP'].describe()"
   ]
  },
  {
   "cell_type": "code",
   "execution_count": 8,
   "metadata": {},
   "outputs": [],
   "source": [
    "import pandas as pd\n",
    "import matplotlib.pyplot as plt"
   ]
  },
  {
   "cell_type": "code",
   "execution_count": 9,
   "metadata": {},
   "outputs": [],
   "source": [
    "#**************************************************************\n",
    "#       Course2 Task 3 - Now Let us build the Model\n",
    "#**************************************************************"
   ]
  },
  {
   "cell_type": "code",
   "execution_count": 10,
   "metadata": {},
   "outputs": [],
   "source": [
    "################################################################################\n",
    "# Course2 Task3 - Juptyer Notebook worksheet #\n",
    "# This Block makes all the Tools required to be Available for use\n",
    "# Import Basic Tools for DS dat analysis\n",
    "# Note: you may have to install pandas_profiling package before this could be run, if not installed already\n",
    "# conda activate datasciencebbk\n",
    "# conda install -c conda-forge pandas-profiling\n",
    "################################################################################\n",
    "import numpy as np\n",
    "import pandas as pd\n",
    "import scipy\n",
    "from math import sqrt\n",
    "import matplotlib.pyplot as plt\n",
    "\n",
    "\n",
    "# Import SKLearn package\n",
    "from sklearn.model_selection import train_test_split, cross_val_score, KFold, LeaveOneOut\n",
    "from sklearn.metrics import accuracy_score, classification_report\n",
    "from sklearn.metrics import confusion_matrix\n",
    "from sklearn.ensemble import RandomForestClassifier, GradientBoostingClassifier\n",
    "from sklearn.neighbors import KNeighborsClassifier\n",
    "from sklearn.tree import DecisionTreeClassifier\n",
    "from sklearn.svm import SVC\n",
    "\n",
    "# Import SKLearn model metrics\n",
    "from sklearn.model_selection import train_test_split, cross_val_score\n",
    "from sklearn.metrics import accuracy_score, r2_score, mean_squared_error\n",
    "\n",
    "# Helper classes\n",
    "%matplotlib inline"
   ]
  },
  {
   "cell_type": "code",
   "execution_count": 11,
   "metadata": {},
   "outputs": [
    {
     "data": {
      "text/html": [
       "<div>\n",
       "<style scoped>\n",
       "    .dataframe tbody tr th:only-of-type {\n",
       "        vertical-align: middle;\n",
       "    }\n",
       "\n",
       "    .dataframe tbody tr th {\n",
       "        vertical-align: top;\n",
       "    }\n",
       "\n",
       "    .dataframe thead th {\n",
       "        text-align: right;\n",
       "    }\n",
       "</style>\n",
       "<table border=\"1\" class=\"dataframe\">\n",
       "  <thead>\n",
       "    <tr style=\"text-align: right;\">\n",
       "      <th></th>\n",
       "      <th></th>\n",
       "      <th>AGE</th>\n",
       "    </tr>\n",
       "    <tr>\n",
       "      <th>LIMIT_BAL_GROUP</th>\n",
       "      <th>default</th>\n",
       "      <th></th>\n",
       "    </tr>\n",
       "  </thead>\n",
       "  <tbody>\n",
       "    <tr>\n",
       "      <th rowspan=\"2\" valign=\"top\">1</th>\n",
       "      <th>0</th>\n",
       "      <td>5187</td>\n",
       "    </tr>\n",
       "    <tr>\n",
       "      <th>1</th>\n",
       "      <td>2420</td>\n",
       "    </tr>\n",
       "    <tr>\n",
       "      <th rowspan=\"2\" valign=\"top\">2</th>\n",
       "      <th>0</th>\n",
       "      <td>3542</td>\n",
       "    </tr>\n",
       "    <tr>\n",
       "      <th>1</th>\n",
       "      <td>1242</td>\n",
       "    </tr>\n",
       "    <tr>\n",
       "      <th rowspan=\"2\" valign=\"top\">3</th>\n",
       "      <th>0</th>\n",
       "      <td>3045</td>\n",
       "    </tr>\n",
       "    <tr>\n",
       "      <th>1</th>\n",
       "      <td>819</td>\n",
       "    </tr>\n",
       "    <tr>\n",
       "      <th rowspan=\"2\" valign=\"top\">4</th>\n",
       "      <th>0</th>\n",
       "      <td>3216</td>\n",
       "    </tr>\n",
       "    <tr>\n",
       "      <th>1</th>\n",
       "      <td>699</td>\n",
       "    </tr>\n",
       "    <tr>\n",
       "      <th rowspan=\"2\" valign=\"top\">5</th>\n",
       "      <th>0</th>\n",
       "      <td>4203</td>\n",
       "    </tr>\n",
       "    <tr>\n",
       "      <th>1</th>\n",
       "      <td>794</td>\n",
       "    </tr>\n",
       "    <tr>\n",
       "      <th rowspan=\"2\" valign=\"top\">6</th>\n",
       "      <th>0</th>\n",
       "      <td>3745</td>\n",
       "    </tr>\n",
       "    <tr>\n",
       "      <th>1</th>\n",
       "      <td>555</td>\n",
       "    </tr>\n",
       "    <tr>\n",
       "      <th rowspan=\"2\" valign=\"top\">7</th>\n",
       "      <th>0</th>\n",
       "      <td>183</td>\n",
       "    </tr>\n",
       "    <tr>\n",
       "      <th>1</th>\n",
       "      <td>23</td>\n",
       "    </tr>\n",
       "  </tbody>\n",
       "</table>\n",
       "</div>"
      ],
      "text/plain": [
       "                          AGE\n",
       "LIMIT_BAL_GROUP default      \n",
       "1               0        5187\n",
       "                1        2420\n",
       "2               0        3542\n",
       "                1        1242\n",
       "3               0        3045\n",
       "                1         819\n",
       "4               0        3216\n",
       "                1         699\n",
       "5               0        4203\n",
       "                1         794\n",
       "6               0        3745\n",
       "                1         555\n",
       "7               0         183\n",
       "                1          23"
      ]
     },
     "execution_count": 11,
     "metadata": {},
     "output_type": "execute_result"
    }
   ],
   "source": [
    "credit.pivot_table(index=['LIMIT_BAL_GROUP', 'default'], values='AGE', aggfunc='count')"
   ]
  },
  {
   "cell_type": "code",
   "execution_count": 12,
   "metadata": {},
   "outputs": [
    {
     "data": {
      "text/html": [
       "<div>\n",
       "<style scoped>\n",
       "    .dataframe tbody tr th:only-of-type {\n",
       "        vertical-align: middle;\n",
       "    }\n",
       "\n",
       "    .dataframe tbody tr th {\n",
       "        vertical-align: top;\n",
       "    }\n",
       "\n",
       "    .dataframe thead th {\n",
       "        text-align: right;\n",
       "    }\n",
       "</style>\n",
       "<table border=\"1\" class=\"dataframe\">\n",
       "  <thead>\n",
       "    <tr style=\"text-align: right;\">\n",
       "      <th></th>\n",
       "      <th>GRADUATE</th>\n",
       "      <th>BILL_AMT5</th>\n",
       "      <th>PAY_AMT1</th>\n",
       "      <th>PAY_AMT2</th>\n",
       "      <th>PAY_AMT3</th>\n",
       "      <th>PAY_AMT4</th>\n",
       "      <th>PAY_AMT5</th>\n",
       "      <th>PAY_AMT6</th>\n",
       "      <th>AGE</th>\n",
       "      <th>AGE_GROUP</th>\n",
       "      <th>default</th>\n",
       "      <th>LIMIT_BAL_GROUP</th>\n",
       "      <th>LIMIT_BAL</th>\n",
       "    </tr>\n",
       "  </thead>\n",
       "  <tbody>\n",
       "    <tr>\n",
       "      <th>count</th>\n",
       "      <td>23121.000000</td>\n",
       "      <td>23121.000000</td>\n",
       "      <td>23121.000000</td>\n",
       "      <td>2.312100e+04</td>\n",
       "      <td>23121.000000</td>\n",
       "      <td>23121.000000</td>\n",
       "      <td>23121.000000</td>\n",
       "      <td>23121.000000</td>\n",
       "      <td>23121.000000</td>\n",
       "      <td>23121.000000</td>\n",
       "      <td>23121.0</td>\n",
       "      <td>23121.000000</td>\n",
       "      <td>23121.000000</td>\n",
       "    </tr>\n",
       "    <tr>\n",
       "      <th>mean</th>\n",
       "      <td>0.364517</td>\n",
       "      <td>40956.240474</td>\n",
       "      <td>6373.295056</td>\n",
       "      <td>6.710097e+03</td>\n",
       "      <td>5813.806713</td>\n",
       "      <td>5356.078543</td>\n",
       "      <td>5303.219757</td>\n",
       "      <td>5779.322996</td>\n",
       "      <td>35.438908</td>\n",
       "      <td>3.451538</td>\n",
       "      <td>0.0</td>\n",
       "      <td>3.418364</td>\n",
       "      <td>178193.503741</td>\n",
       "    </tr>\n",
       "    <tr>\n",
       "      <th>std</th>\n",
       "      <td>0.481305</td>\n",
       "      <td>60791.779055</td>\n",
       "      <td>18097.367270</td>\n",
       "      <td>2.542572e+04</td>\n",
       "      <td>18772.872515</td>\n",
       "      <td>16768.408168</td>\n",
       "      <td>16146.898624</td>\n",
       "      <td>18882.300496</td>\n",
       "      <td>9.091585</td>\n",
       "      <td>1.764509</td>\n",
       "      <td>0.0</td>\n",
       "      <td>1.823816</td>\n",
       "      <td>131874.779762</td>\n",
       "    </tr>\n",
       "    <tr>\n",
       "      <th>min</th>\n",
       "      <td>0.000000</td>\n",
       "      <td>-81334.000000</td>\n",
       "      <td>0.000000</td>\n",
       "      <td>0.000000e+00</td>\n",
       "      <td>0.000000</td>\n",
       "      <td>0.000000</td>\n",
       "      <td>0.000000</td>\n",
       "      <td>0.000000</td>\n",
       "      <td>21.000000</td>\n",
       "      <td>1.000000</td>\n",
       "      <td>0.0</td>\n",
       "      <td>1.000000</td>\n",
       "      <td>10000.000000</td>\n",
       "    </tr>\n",
       "    <tr>\n",
       "      <th>25%</th>\n",
       "      <td>0.000000</td>\n",
       "      <td>2034.000000</td>\n",
       "      <td>1200.000000</td>\n",
       "      <td>1.074000e+03</td>\n",
       "      <td>656.000000</td>\n",
       "      <td>408.000000</td>\n",
       "      <td>390.000000</td>\n",
       "      <td>332.000000</td>\n",
       "      <td>28.000000</td>\n",
       "      <td>2.000000</td>\n",
       "      <td>0.0</td>\n",
       "      <td>2.000000</td>\n",
       "      <td>70000.000000</td>\n",
       "    </tr>\n",
       "    <tr>\n",
       "      <th>50%</th>\n",
       "      <td>0.000000</td>\n",
       "      <td>18296.000000</td>\n",
       "      <td>2500.000000</td>\n",
       "      <td>2.300000e+03</td>\n",
       "      <td>2000.000000</td>\n",
       "      <td>1796.000000</td>\n",
       "      <td>1817.000000</td>\n",
       "      <td>1772.000000</td>\n",
       "      <td>34.000000</td>\n",
       "      <td>3.000000</td>\n",
       "      <td>0.0</td>\n",
       "      <td>3.000000</td>\n",
       "      <td>150000.000000</td>\n",
       "    </tr>\n",
       "    <tr>\n",
       "      <th>75%</th>\n",
       "      <td>1.000000</td>\n",
       "      <td>51800.000000</td>\n",
       "      <td>5701.000000</td>\n",
       "      <td>5.419000e+03</td>\n",
       "      <td>5000.000000</td>\n",
       "      <td>4700.000000</td>\n",
       "      <td>4700.000000</td>\n",
       "      <td>4622.000000</td>\n",
       "      <td>41.000000</td>\n",
       "      <td>5.000000</td>\n",
       "      <td>0.0</td>\n",
       "      <td>5.000000</td>\n",
       "      <td>250000.000000</td>\n",
       "    </tr>\n",
       "    <tr>\n",
       "      <th>max</th>\n",
       "      <td>1.000000</td>\n",
       "      <td>927171.000000</td>\n",
       "      <td>873552.000000</td>\n",
       "      <td>1.684259e+06</td>\n",
       "      <td>896040.000000</td>\n",
       "      <td>621000.000000</td>\n",
       "      <td>426529.000000</td>\n",
       "      <td>528666.000000</td>\n",
       "      <td>79.000000</td>\n",
       "      <td>8.000000</td>\n",
       "      <td>0.0</td>\n",
       "      <td>7.000000</td>\n",
       "      <td>1000000.000000</td>\n",
       "    </tr>\n",
       "  </tbody>\n",
       "</table>\n",
       "</div>"
      ],
      "text/plain": [
       "           GRADUATE      BILL_AMT5       PAY_AMT1      PAY_AMT2       PAY_AMT3       PAY_AMT4       PAY_AMT5       PAY_AMT6           AGE     AGE_GROUP  default  LIMIT_BAL_GROUP       LIMIT_BAL\n",
       "count  23121.000000   23121.000000   23121.000000  2.312100e+04   23121.000000   23121.000000   23121.000000   23121.000000  23121.000000  23121.000000  23121.0     23121.000000    23121.000000\n",
       "mean       0.364517   40956.240474    6373.295056  6.710097e+03    5813.806713    5356.078543    5303.219757    5779.322996     35.438908      3.451538      0.0         3.418364   178193.503741\n",
       "std        0.481305   60791.779055   18097.367270  2.542572e+04   18772.872515   16768.408168   16146.898624   18882.300496      9.091585      1.764509      0.0         1.823816   131874.779762\n",
       "min        0.000000  -81334.000000       0.000000  0.000000e+00       0.000000       0.000000       0.000000       0.000000     21.000000      1.000000      0.0         1.000000    10000.000000\n",
       "25%        0.000000    2034.000000    1200.000000  1.074000e+03     656.000000     408.000000     390.000000     332.000000     28.000000      2.000000      0.0         2.000000    70000.000000\n",
       "50%        0.000000   18296.000000    2500.000000  2.300000e+03    2000.000000    1796.000000    1817.000000    1772.000000     34.000000      3.000000      0.0         3.000000   150000.000000\n",
       "75%        1.000000   51800.000000    5701.000000  5.419000e+03    5000.000000    4700.000000    4700.000000    4622.000000     41.000000      5.000000      0.0         5.000000   250000.000000\n",
       "max        1.000000  927171.000000  873552.000000  1.684259e+06  896040.000000  621000.000000  426529.000000  528666.000000     79.000000      8.000000      0.0         7.000000  1000000.000000"
      ]
     },
     "execution_count": 12,
     "metadata": {},
     "output_type": "execute_result"
    }
   ],
   "source": [
    "credit.head()\n",
    "#Create Filter to show only Customers who have NOT DEFAULTED\n",
    "filter = (credit['default'] < 1)\n",
    "creditgood = credit[filter]\n",
    "creditgood.describe()"
   ]
  },
  {
   "cell_type": "code",
   "execution_count": 13,
   "metadata": {},
   "outputs": [
    {
     "name": "stdout",
     "output_type": "stream",
     "text": [
      "----------------------------------------------------\n",
      "Summary of Independent variable Samples\n"
     ]
    },
    {
     "data": {
      "text/html": [
       "<div>\n",
       "<style scoped>\n",
       "    .dataframe tbody tr th:only-of-type {\n",
       "        vertical-align: middle;\n",
       "    }\n",
       "\n",
       "    .dataframe tbody tr th {\n",
       "        vertical-align: top;\n",
       "    }\n",
       "\n",
       "    .dataframe thead th {\n",
       "        text-align: right;\n",
       "    }\n",
       "</style>\n",
       "<table border=\"1\" class=\"dataframe\">\n",
       "  <thead>\n",
       "    <tr style=\"text-align: right;\">\n",
       "      <th></th>\n",
       "      <th>GRADUATE</th>\n",
       "      <th>BILL_AMT5</th>\n",
       "      <th>PAY_AMT1</th>\n",
       "      <th>PAY_AMT2</th>\n",
       "      <th>PAY_AMT3</th>\n",
       "      <th>PAY_AMT4</th>\n",
       "      <th>PAY_AMT5</th>\n",
       "      <th>PAY_AMT6</th>\n",
       "      <th>AGE</th>\n",
       "    </tr>\n",
       "  </thead>\n",
       "  <tbody>\n",
       "    <tr>\n",
       "      <th>2</th>\n",
       "      <td>0</td>\n",
       "      <td>14948</td>\n",
       "      <td>1518</td>\n",
       "      <td>1500</td>\n",
       "      <td>1000</td>\n",
       "      <td>1000</td>\n",
       "      <td>1000</td>\n",
       "      <td>5000</td>\n",
       "      <td>34</td>\n",
       "    </tr>\n",
       "    <tr>\n",
       "      <th>3</th>\n",
       "      <td>0</td>\n",
       "      <td>28959</td>\n",
       "      <td>2000</td>\n",
       "      <td>2019</td>\n",
       "      <td>1200</td>\n",
       "      <td>1100</td>\n",
       "      <td>1069</td>\n",
       "      <td>1000</td>\n",
       "      <td>37</td>\n",
       "    </tr>\n",
       "    <tr>\n",
       "      <th>4</th>\n",
       "      <td>0</td>\n",
       "      <td>19146</td>\n",
       "      <td>2000</td>\n",
       "      <td>36681</td>\n",
       "      <td>10000</td>\n",
       "      <td>9000</td>\n",
       "      <td>689</td>\n",
       "      <td>679</td>\n",
       "      <td>57</td>\n",
       "    </tr>\n",
       "    <tr>\n",
       "      <th>5</th>\n",
       "      <td>1</td>\n",
       "      <td>19619</td>\n",
       "      <td>2500</td>\n",
       "      <td>1815</td>\n",
       "      <td>657</td>\n",
       "      <td>1000</td>\n",
       "      <td>1000</td>\n",
       "      <td>800</td>\n",
       "      <td>37</td>\n",
       "    </tr>\n",
       "    <tr>\n",
       "      <th>6</th>\n",
       "      <td>1</td>\n",
       "      <td>483003</td>\n",
       "      <td>55000</td>\n",
       "      <td>40000</td>\n",
       "      <td>38000</td>\n",
       "      <td>20239</td>\n",
       "      <td>13750</td>\n",
       "      <td>13770</td>\n",
       "      <td>29</td>\n",
       "    </tr>\n",
       "  </tbody>\n",
       "</table>\n",
       "</div>"
      ],
      "text/plain": [
       "   GRADUATE  BILL_AMT5  PAY_AMT1  PAY_AMT2  PAY_AMT3  PAY_AMT4  PAY_AMT5  PAY_AMT6  AGE\n",
       "2         0      14948      1518      1500      1000      1000      1000      5000   34\n",
       "3         0      28959      2000      2019      1200      1100      1069      1000   37\n",
       "4         0      19146      2000     36681     10000      9000       689       679   57\n",
       "5         1      19619      2500      1815       657      1000      1000       800   37\n",
       "6         1     483003     55000     40000     38000     20239     13750     13770   29"
      ]
     },
     "execution_count": 13,
     "metadata": {},
     "output_type": "execute_result"
    }
   ],
   "source": [
    "# Indepedent variables assignement to X\n",
    "X = creditgood.iloc[:, [0,1,2,3,4,5,6,7,8]]\n",
    "print('----------------------------------------------------')\n",
    "print('Summary of Independent variable Samples')\n",
    "X.head()\n"
   ]
  },
  {
   "cell_type": "code",
   "execution_count": 14,
   "metadata": {},
   "outputs": [
    {
     "name": "stdout",
     "output_type": "stream",
     "text": [
      "----------------------------------------------------\n"
     ]
    },
    {
     "data": {
      "text/plain": [
       "2    2\n",
       "3    1\n",
       "4    1\n",
       "5    1\n",
       "6    6\n",
       "Name: LIMIT_BAL_GROUP, dtype: int64"
      ]
     },
     "execution_count": 14,
     "metadata": {},
     "output_type": "execute_result"
    }
   ],
   "source": [
    "print('----------------------------------------------------')\n",
    "# Lets assign Outcome (dependent variable) for Y-axis - LIMIT_BAL_GROUP\n",
    "y = creditgood['LIMIT_BAL_GROUP']\n",
    "y.head()"
   ]
  },
  {
   "cell_type": "code",
   "execution_count": 15,
   "metadata": {},
   "outputs": [
    {
     "name": "stdout",
     "output_type": "stream",
     "text": [
      "Support Vector Classifier 0.22741230915617838\n",
      "Random Forest Classifier 0.4067298127243631\n",
      "Gradient Boosting Classifier 0.4223433242506813\n",
      "Decision Tree Classifier 0.3145192681977423\n",
      "K Neighbors Classifier 0.3093724319882358\n"
     ]
    }
   ],
   "source": [
    "# Decide and select the models for comparison and loop them in cross_val_score by passing appropriate model\n",
    "# algo_class is an array where we will assign the model name and the ModelClassifier\n",
    "algos_Class = []\n",
    "algos_Class.append(('Support Vector Classifier', SVC(gamma=\"auto\")))# SVC classification\n",
    "algos_Class.append(('Random Forest Classifier', RandomForestClassifier()))\n",
    "algos_Class.append(('Gradient Boosting Classifier', GradientBoostingClassifier()))\n",
    "algos_Class.append(('Decision Tree Classifier', DecisionTreeClassifier()))\n",
    "algos_Class.append(('K Neighbors Classifier', KNeighborsClassifier(n_neighbors=1)))#classification\n",
    "results = []\n",
    "names = []\n",
    "for name, model in algos_Class:\n",
    "    result = cross_val_score(model, X,y, cv=3, scoring='accuracy')\n",
    "    names.append(name)\n",
    "    results.append(result)\n",
    "#output\n",
    "for i in range(len(names)):\n",
    "    print(names[i],results[i].mean())"
   ]
  },
  {
   "cell_type": "code",
   "execution_count": 16,
   "metadata": {},
   "outputs": [
    {
     "data": {
      "text/plain": [
       "20949    1\n",
       "27913    1\n",
       "19086    4\n",
       "21652    1\n",
       "8464     6\n",
       "Name: LIMIT_BAL_GROUP, dtype: int64"
      ]
     },
     "execution_count": 16,
     "metadata": {},
     "output_type": "execute_result"
    }
   ],
   "source": [
    "#Train/Test Split\n",
    "X_train, X_test, y_train, y_test = train_test_split(X, y, test_size = .30, random_state = 123)\n",
    "X_train.head()\n",
    "y_train.head()\n",
    "y_test.head()"
   ]
  },
  {
   "cell_type": "code",
   "execution_count": 17,
   "metadata": {},
   "outputs": [
    {
     "name": "stdout",
     "output_type": "stream",
     "text": [
      "              precision    recall  f1-score   support\n",
      "\n",
      "           1       0.57      0.77      0.66      1549\n",
      "           2       0.41      0.39      0.40      1099\n",
      "           3       0.35      0.24      0.29       912\n",
      "           4       0.26      0.16      0.20       989\n",
      "           5       0.30      0.37      0.34      1244\n",
      "           6       0.46      0.41      0.43      1087\n",
      "           7       0.09      0.07      0.08        57\n",
      "\n",
      "    accuracy                           0.42      6937\n",
      "   macro avg       0.35      0.35      0.34      6937\n",
      "weighted avg       0.40      0.42      0.40      6937\n",
      "\n"
     ]
    }
   ],
   "source": [
    "# Based on the comparison above, Using the LIMIT_BAL_GROUP produces more accuracy\n",
    "# However, there risk is associated with Discretization Range selected for the LIMIT_BAL_GROUP.\n",
    "# We will use GradientBoosting Classifer and predict\n",
    "# Then we will use the RandomForestClassifer and predict.\n",
    "algo = GradientBoostingClassifier(max_depth=4)\n",
    "model = algo.fit(X_train, y_train)\n",
    "#Predictions\n",
    "preds = model.predict(X_test)\n",
    "print(classification_report(y_test, preds))\n"
   ]
  },
  {
   "cell_type": "code",
   "execution_count": 18,
   "metadata": {},
   "outputs": [
    {
     "name": "stdout",
     "output_type": "stream",
     "text": [
      "Confusion Matrix for Gradient Boosting Classifier :\n",
      "[[1198  159   14   50  102   21    5]\n",
      " [ 353  426   87   56  123   47    7]\n",
      " [ 171  175  221  102  176   64    3]\n",
      " [ 134  106  129  162  307  147    4]\n",
      " [ 165  112  116  151  465  229    6]\n",
      " [  85   56   59   85  337  449   16]\n",
      " [   2    4    1    6   17   23    4]]\n"
     ]
    }
   ],
   "source": [
    "results = confusion_matrix(y_test, preds)\n",
    "print ('Confusion Matrix for Gradient Boosting Classifier :')\n",
    "print(results)"
   ]
  },
  {
   "cell_type": "code",
   "execution_count": 19,
   "metadata": {},
   "outputs": [
    {
     "name": "stdout",
     "output_type": "stream",
     "text": [
      "              precision    recall  f1-score   support\n",
      "\n",
      "           1       0.44      0.87      0.59      1549\n",
      "           2       0.43      0.31      0.36      1099\n",
      "           3       0.38      0.19      0.26       912\n",
      "           4       0.00      0.00      0.00       989\n",
      "           5       0.30      0.45      0.36      1244\n",
      "           6       0.48      0.35      0.40      1087\n",
      "           7       0.00      0.00      0.00        57\n",
      "\n",
      "    accuracy                           0.41      6937\n",
      "   macro avg       0.29      0.31      0.28      6937\n",
      "weighted avg       0.35      0.41      0.35      6937\n",
      "\n"
     ]
    },
    {
     "name": "stderr",
     "output_type": "stream",
     "text": [
      "C:\\bbk\\Anaconda\\envs\\datasciencebbk\\lib\\site-packages\\sklearn\\metrics\\_classification.py:1272: UndefinedMetricWarning: Precision and F-score are ill-defined and being set to 0.0 in labels with no predicted samples. Use `zero_division` parameter to control this behavior.\n",
      "  _warn_prf(average, modifier, msg_start, len(result))\n"
     ]
    }
   ],
   "source": [
    "# Based on the comparison above, Using the LIMIT_BAL_GROUP produces more accuracy when compared with LIMIT_BAL itself\n",
    "# However, the risk is associated with Discretization Range selected for the LIMIT_BAL_GROUP.\n",
    "#Modeling (Classification)\n",
    "algo = RandomForestClassifier(max_depth=4)\n",
    "model = algo.fit(X_train, y_train)\n",
    "#Predictions\n",
    "preds = model.predict(X_test)\n",
    "print(classification_report(y_test, preds))"
   ]
  },
  {
   "cell_type": "code",
   "execution_count": 20,
   "metadata": {},
   "outputs": [
    {
     "name": "stdout",
     "output_type": "stream",
     "text": [
      "Confusion Matrix for RandomForestClassifier:\n",
      "[[1355   85    1    0   85   23    0]\n",
      " [ 525  345   55    0  133   41    0]\n",
      " [ 318  148  175    0  229   42    0]\n",
      " [ 290   78   92    0  415  114    0]\n",
      " [ 348   82   93    0  558  163    0]\n",
      " [ 218   54   36    0  399  380    0]\n",
      " [   7    4    3    0   13   30    0]]\n"
     ]
    }
   ],
   "source": [
    "results = confusion_matrix(y_test, preds)\n",
    "print ('Confusion Matrix for RandomForestClassifier:')\n",
    "print(results)"
   ]
  },
  {
   "cell_type": "code",
   "execution_count": 21,
   "metadata": {},
   "outputs": [
    {
     "name": "stdout",
     "output_type": "stream",
     "text": [
      "              precision    recall  f1-score   support\n",
      "\n",
      "           1       0.53      0.54      0.54      1549\n",
      "           2       0.26      0.25      0.26      1099\n",
      "           3       0.20      0.22      0.21       912\n",
      "           4       0.21      0.19      0.20       989\n",
      "           5       0.26      0.27      0.26      1244\n",
      "           6       0.29      0.29      0.29      1087\n",
      "           7       0.02      0.02      0.02        57\n",
      "\n",
      "    accuracy                           0.31      6937\n",
      "   macro avg       0.25      0.25      0.25      6937\n",
      "weighted avg       0.31      0.31      0.31      6937\n",
      "\n"
     ]
    }
   ],
   "source": [
    "#Modeling (Classification - KNeighbours classifier)\n",
    "algo = KNeighborsClassifier(n_neighbors=1)\n",
    "model = algo.fit(X_train, y_train)\n",
    "#Predictions\n",
    "preds = model.predict(X_test)\n",
    "print(classification_report(y_test, preds))"
   ]
  },
  {
   "cell_type": "code",
   "execution_count": 22,
   "metadata": {},
   "outputs": [
    {
     "name": "stdout",
     "output_type": "stream",
     "text": [
      "Confusion Matrix for K Neighbours Classifier:\n",
      "[[839 247 117 106 140  98   2]\n",
      " [263 279 181 112 138 115  11]\n",
      " [115 164 198 136 162 131   6]\n",
      " [119 100 186 190 222 170   2]\n",
      " [136 151 181 205 332 231   8]\n",
      " [103 112 119 139 282 320  12]\n",
      " [  3   5   5   2  18  23   1]]\n"
     ]
    }
   ],
   "source": [
    "results = confusion_matrix(y_test, preds)\n",
    "print ('Confusion Matrix for K Neighbours Classifier:')\n",
    "print(results)"
   ]
  },
  {
   "cell_type": "code",
   "execution_count": 23,
   "metadata": {},
   "outputs": [
    {
     "name": "stdout",
     "output_type": "stream",
     "text": [
      "              precision    recall  f1-score   support\n",
      "\n",
      "           1       0.55      0.54      0.55      1549\n",
      "           2       0.28      0.26      0.27      1099\n",
      "           3       0.20      0.21      0.20       912\n",
      "           4       0.20      0.20      0.20       989\n",
      "           5       0.25      0.26      0.25      1244\n",
      "           6       0.30      0.29      0.30      1087\n",
      "           7       0.04      0.04      0.04        57\n",
      "\n",
      "    accuracy                           0.31      6937\n",
      "   macro avg       0.26      0.26      0.26      6937\n",
      "weighted avg       0.31      0.31      0.31      6937\n",
      "\n"
     ]
    }
   ],
   "source": [
    "#Modeling (Classification - Decision Tree classifier)\n",
    "algo = DecisionTreeClassifier()\n",
    "model = algo.fit(X_train, y_train)\n",
    "#Predictions\n",
    "preds = model.predict(X_test)\n",
    "print(classification_report(y_test, preds))"
   ]
  },
  {
   "cell_type": "code",
   "execution_count": 24,
   "metadata": {},
   "outputs": [
    {
     "name": "stdout",
     "output_type": "stream",
     "text": [
      "Confusion Matrix for Decision Tree Classifier:\n",
      "[[844 243 131 111 131  88   1]\n",
      " [264 289 174 126 146  96   4]\n",
      " [121 149 191 158 176 110   7]\n",
      " [100 122 164 201 225 172   5]\n",
      " [132 125 174 219 323 261  10]\n",
      " [ 69  91 119 182 288 319  19]\n",
      " [  3   3   5   6  13  25   2]]\n"
     ]
    }
   ],
   "source": [
    "results = confusion_matrix(y_test, preds)\n",
    "print ('Confusion Matrix for Decision Tree Classifier:')\n",
    "print(results)"
   ]
  },
  {
   "cell_type": "code",
   "execution_count": 25,
   "metadata": {},
   "outputs": [
    {
     "name": "stdout",
     "output_type": "stream",
     "text": [
      "              precision    recall  f1-score   support\n",
      "\n",
      "           1       0.23      0.99      0.37      1549\n",
      "           2       0.00      0.00      0.00      1099\n",
      "           3       0.08      0.00      0.00       912\n",
      "           4       0.12      0.00      0.00       989\n",
      "           5       0.27      0.03      0.05      1244\n",
      "           6       0.14      0.00      0.00      1087\n",
      "           7       0.00      0.00      0.00        57\n",
      "\n",
      "    accuracy                           0.23      6937\n",
      "   macro avg       0.12      0.15      0.06      6937\n",
      "weighted avg       0.15      0.23      0.09      6937\n",
      "\n"
     ]
    },
    {
     "name": "stderr",
     "output_type": "stream",
     "text": [
      "C:\\bbk\\Anaconda\\envs\\datasciencebbk\\lib\\site-packages\\sklearn\\metrics\\_classification.py:1272: UndefinedMetricWarning: Precision and F-score are ill-defined and being set to 0.0 in labels with no predicted samples. Use `zero_division` parameter to control this behavior.\n",
      "  _warn_prf(average, modifier, msg_start, len(result))\n"
     ]
    }
   ],
   "source": [
    "from sklearn.svm import SVC\n",
    "#Modeling (Classification - Support Vector classifier)\n",
    "algo = SVC(gamma=\"auto\")\n",
    "model = algo.fit(X_train, y_train)\n",
    "#Predictions\n",
    "preds = model.predict(X_test)\n",
    "print(classification_report(y_test, preds))"
   ]
  },
  {
   "cell_type": "code",
   "execution_count": 26,
   "metadata": {},
   "outputs": [
    {
     "name": "stdout",
     "output_type": "stream",
     "text": [
      "Confusion Matrix for Support Vector Classifier:\n",
      "[[1528    3    4    2   11    1    0]\n",
      " [1084    0    0    0   13    2    0]\n",
      " [ 885    1    1    2   21    2    0]\n",
      " [ 953    0    2    2   28    4    0]\n",
      " [1196    1    4    5   35    3    0]\n",
      " [1058    0    1    5   21    2    0]\n",
      " [  56    0    0    0    1    0    0]]\n"
     ]
    }
   ],
   "source": [
    "results = confusion_matrix(y_test, preds)\n",
    "print ('Confusion Matrix for Support Vector Classifier:')\n",
    "print(results)"
   ]
  },
  {
   "cell_type": "code",
   "execution_count": null,
   "metadata": {},
   "outputs": [],
   "source": []
  }
 ],
 "metadata": {
  "kernelspec": {
   "display_name": "datasciencebbk",
   "language": "python",
   "name": "datasciencebbk"
  },
  "language_info": {
   "codemirror_mode": {
    "name": "ipython",
    "version": 3
   },
   "file_extension": ".py",
   "mimetype": "text/x-python",
   "name": "python",
   "nbconvert_exporter": "python",
   "pygments_lexer": "ipython3",
   "version": "3.8.1"
  }
 },
 "nbformat": 4,
 "nbformat_minor": 2
}
